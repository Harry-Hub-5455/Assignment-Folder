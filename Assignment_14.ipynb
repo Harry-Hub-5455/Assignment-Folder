{
  "cells": [
    {
      "cell_type": "markdown",
      "id": "bb28039f",
      "metadata": {
        "id": "bb28039f"
      },
      "source": [
        "# Assignment_14\n",
        "\n",
        "---\n"
      ]
    },
    {
      "cell_type": "markdown",
      "id": "7c6c3412",
      "metadata": {
        "id": "7c6c3412"
      },
      "source": [
        "#### 1. What does RGBA stand for?\n",
        "**Ans:** \n",
        "\n",
        "**RGBA** is a four-channel format containing data for `Red`, `Green`, `Blue`, and an `Alpha` value. Where Alpha Represents the Opacity"
      ]
    },
    {
      "cell_type": "markdown",
      "source": [
        "\n",
        "\n",
        "---\n",
        "\n"
      ],
      "metadata": {
        "id": "OXemFUQ3w9iL"
      },
      "id": "OXemFUQ3w9iL"
    },
    {
      "cell_type": "markdown",
      "id": "39e9a315",
      "metadata": {
        "id": "39e9a315"
      },
      "source": [
        "#### 2. From the Pillow module, how do you get the RGBA value of any images?\n",
        "**Ans:** \n",
        "\n",
        "**`ImageColor.getcolor()`** gives rgba value of any image "
      ]
    },
    {
      "cell_type": "markdown",
      "source": [
        "\n",
        "\n",
        "---\n",
        "\n"
      ],
      "metadata": {
        "id": "Zr8o1Qxlw4KE"
      },
      "id": "Zr8o1Qxlw4KE"
    },
    {
      "cell_type": "markdown",
      "id": "185bf687",
      "metadata": {
        "id": "185bf687"
      },
      "source": [
        "#### 3. What is a box tuple, and how does it work?\n",
        "**Ans:** \n",
        "\n",
        "A box tuple is a tuple value of four integers: the `left-edge x-coordinate,` the `top-edge y-coordinate,`the `width, and the height,` respectively."
      ]
    },
    {
      "cell_type": "markdown",
      "source": [
        "\n",
        "\n",
        "---\n",
        "\n"
      ],
      "metadata": {
        "id": "O_dpJdH9w0u5"
      },
      "id": "O_dpJdH9w0u5"
    },
    {
      "cell_type": "markdown",
      "id": "2dd0185d",
      "metadata": {
        "id": "2dd0185d"
      },
      "source": [
        "#### 4. Use your image and load in notebook then, How can you find out the width and height of an Image object?"
      ]
    },
    {
      "cell_type": "code",
      "execution_count": 7,
      "id": "1b9e60eb",
      "metadata": {
        "colab": {
          "base_uri": "https://localhost:8080/"
        },
        "id": "1b9e60eb",
        "outputId": "ebe0b84b-9eae-46eb-f728-33a3b139b100"
      },
      "outputs": [
        {
          "output_type": "stream",
          "name": "stdout",
          "text": [
            "Width, Height -> (1360, 768)\n",
            "Width, Height -> 1360,768\n",
            "Width, Height -> 1360,768\n"
          ]
        }
      ],
      "source": [
        "#Example Program\n",
        "\n",
        "from PIL import Image\n",
        "pic = Image.open('/content/sample_data/pic.jpg')\n",
        "print(f'Width, Height -> {pic.size}') # Approach 1\n",
        "print(f'Width, Height -> {pic.width},{pic.height}') # Approach 2\n",
        "width,height = pic.size\n",
        "print(f'Width, Height -> {width},{height}') # Approach "
      ]
    },
    {
      "cell_type": "code",
      "source": [
        "from google.colab import drive\n",
        "drive.mount('/content/drive')"
      ],
      "metadata": {
        "colab": {
          "base_uri": "https://localhost:8080/"
        },
        "id": "4rFwlNTTtp20",
        "outputId": "9d7c1eff-a422-406c-8176-9105ce7bff51"
      },
      "id": "4rFwlNTTtp20",
      "execution_count": 8,
      "outputs": [
        {
          "output_type": "stream",
          "name": "stdout",
          "text": [
            "Mounted at /content/drive\n"
          ]
        }
      ]
    },
    {
      "cell_type": "markdown",
      "source": [
        "\n",
        "\n",
        "---\n",
        "\n"
      ],
      "metadata": {
        "id": "UJFS0UJywrmL"
      },
      "id": "UJFS0UJywrmL"
    },
    {
      "cell_type": "markdown",
      "id": "efc289ab",
      "metadata": {
        "id": "efc289ab"
      },
      "source": [
        "#### 5. What method would you call to get Image object for a 100×100 image, excluding the lower-left quarter of it?"
      ]
    },
    {
      "cell_type": "code",
      "execution_count": 10,
      "id": "4a82a38a",
      "metadata": {
        "id": "4a82a38a"
      },
      "outputs": [],
      "source": [
        "from PIL import Image\n",
        "img = Image.open('/content/sample_data/pic.jpg')\n",
        "new_img = img.crop((0,50,50,50))"
      ]
    },
    {
      "cell_type": "markdown",
      "source": [
        "\n",
        "\n",
        "---\n",
        "\n"
      ],
      "metadata": {
        "id": "mXlrW-X6whVH"
      },
      "id": "mXlrW-X6whVH"
    },
    {
      "cell_type": "markdown",
      "id": "0ffd911b",
      "metadata": {
        "id": "0ffd911b"
      },
      "source": [
        "#### 6. After making changes to an Image object, how could you save it as an image file?"
      ]
    },
    {
      "cell_type": "code",
      "execution_count": 12,
      "id": "e5939016",
      "metadata": {
        "id": "e5939016"
      },
      "outputs": [],
      "source": [
        "#Example Program\n",
        "from PIL import Image\n",
        "pic = Image.open('/content/sample_data/pic.jpg')\n",
        "pic.save('pic2.jpg')"
      ]
    },
    {
      "cell_type": "markdown",
      "source": [
        "\n",
        "\n",
        "---\n",
        "\n"
      ],
      "metadata": {
        "id": "cGacx0fHwiua"
      },
      "id": "cGacx0fHwiua"
    },
    {
      "cell_type": "markdown",
      "id": "5ad56500",
      "metadata": {
        "id": "5ad56500"
      },
      "source": [
        "#### 7. What module contains Pillow’s shape-drawing code?\n",
        "\n",
        "**Ans:** \n",
        "\n",
        "Pillows **`ImageDraw`** module contains Shape drawing methods"
      ]
    },
    {
      "cell_type": "markdown",
      "source": [
        "\n",
        "\n",
        "---\n",
        "\n"
      ],
      "metadata": {
        "id": "oQKl90RwwbYK"
      },
      "id": "oQKl90RwwbYK"
    },
    {
      "cell_type": "markdown",
      "id": "2a09c289",
      "metadata": {
        "id": "2a09c289"
      },
      "source": [
        "#### 8. Image objects do not have drawing methods. What kind of object does? How do you get this kind of object?\n",
        "**Ans:** \n",
        "\n",
        "ImageDraw objects have shape-drawing methods such as `point()`, `line()`, or `rectangle()`.They are returned by passing the Image object to the `ImageDraw.Draw()` function."
      ]
    },
    {
      "cell_type": "markdown",
      "source": [
        "\n",
        "\n",
        "---\n",
        "\n",
        "\n",
        "\n",
        "---\n",
        "\n"
      ],
      "metadata": {
        "id": "n8ColihHwfdc"
      },
      "id": "n8ColihHwfdc"
    }
  ],
  "metadata": {
    "kernelspec": {
      "display_name": "Python 3",
      "language": "python",
      "name": "python3"
    },
    "language_info": {
      "codemirror_mode": {
        "name": "ipython",
        "version": 3
      },
      "file_extension": ".py",
      "mimetype": "text/x-python",
      "name": "python",
      "nbconvert_exporter": "python",
      "pygments_lexer": "ipython3",
      "version": "3.8.8"
    },
    "colab": {
      "provenance": []
    }
  },
  "nbformat": 4,
  "nbformat_minor": 5
}