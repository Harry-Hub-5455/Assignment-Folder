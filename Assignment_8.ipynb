{
  "cells": [
    {
      "cell_type": "markdown",
      "id": "bd4844c1",
      "metadata": {
        "id": "bd4844c1"
      },
      "source": [
        "# Assignment_8"
      ]
    },
    {
      "cell_type": "markdown",
      "source": [
        "\n",
        "\n",
        "---\n",
        "\n"
      ],
      "metadata": {
        "id": "Pu4bSHWUwLC_"
      },
      "id": "Pu4bSHWUwLC_"
    },
    {
      "cell_type": "markdown",
      "source": [
        "1. Is the Python Standard Library included with PyInputPlus?\n",
        "\n",
        "2. Why is PyInputPlus commonly imported with import pyinputplus as pypi?\n",
        "\n",
        "3. How do you distinguish between inputInt() and inputFloat()?\n",
        "\n",
        "4. Using PyInputPlus, how do you ensure that the user enters a whole number between 0 and 99?\n",
        "\n",
        "5. What is transferred to the keyword arguments allowRegexes and blockRegexes?\n",
        "\n",
        "6. If a blank input is entered three times, what does inputStr(limit=3) do?\n",
        "\n",
        "7. If blank input is entered three times, what does inputStr(limit=3, default='hello') do?"
      ],
      "metadata": {
        "id": "iDB_Je5lu4bb"
      },
      "id": "iDB_Je5lu4bb"
    },
    {
      "cell_type": "markdown",
      "source": [
        "#Answer Sheet\n",
        "\n",
        "---\n",
        "\n",
        "\n",
        "\n",
        "---\n",
        "\n"
      ],
      "metadata": {
        "id": "ACHQn32Dvag3"
      },
      "id": "ACHQn32Dvag3"
    },
    {
      "cell_type": "markdown",
      "id": "215594ca",
      "metadata": {
        "id": "215594ca"
      },
      "source": [
        "#### 1. Is the Python Standard Library included with PyInputPlus?\n",
        "**Ans:** \n",
        "\n",
        "No, **`PyInputPlus`** is not a part of Python Standard Library, it needs to be installed explicitly using the command **`!pip install PyInputPlus`**"
      ]
    },
    {
      "cell_type": "markdown",
      "source": [
        "\n",
        "\n",
        "---\n",
        "\n"
      ],
      "metadata": {
        "id": "EhiKBflGvh8y"
      },
      "id": "EhiKBflGvh8y"
    },
    {
      "cell_type": "markdown",
      "id": "76a769e0",
      "metadata": {
        "id": "76a769e0"
      },
      "source": [
        "#### 2. Why is PyInputPlus commonly imported with import pyinputplus as pypi?\n",
        "**Ans:** \n",
        "\n",
        "You can import the module with **`import pyinputplus as pyip`** so that you can enter a shorter name when calling the module's functions."
      ]
    },
    {
      "cell_type": "markdown",
      "source": [
        "\n",
        "\n",
        "---\n",
        "\n"
      ],
      "metadata": {
        "id": "sicu9P9QvjLP"
      },
      "id": "sicu9P9QvjLP"
    },
    {
      "cell_type": "markdown",
      "id": "5d578dfb",
      "metadata": {
        "id": "5d578dfb"
      },
      "source": [
        "#### 3. How do you distinguish between inputInt() and inputFloat()?\n",
        "**Ans:** \n",
        "\n",
        "**`inputInt()`** function Accepts an integer value. This also takes additional parameters **`min`**, **`max`**, **`greaterThan`** and **`lessThan`** for bounds. And it always returns an int.\n",
        "\n",
        "Whereas **`inputFloat()`** function Accepts a floating-point numeric value. this also takes additional **`min`**, **`max`**, **`greaterThan`** and **`lessThan`** parameters. and always returns a float."
      ]
    },
    {
      "cell_type": "markdown",
      "source": [
        "\n",
        "\n",
        "---\n",
        "\n"
      ],
      "metadata": {
        "id": "VQ_dega4vkyj"
      },
      "id": "VQ_dega4vkyj"
    },
    {
      "cell_type": "markdown",
      "id": "5a276409",
      "metadata": {
        "id": "5a276409"
      },
      "source": [
        "#### 4. Using PyInputPlus, how do you ensure that the user enters a whole number between 0 and 99?\n",
        "**Ans:** \n",
        "\n",
        "**`PyInputPlus`** module provides a function called as **`inputInt()`** which only returns only integer values. inorder to restrict the input between 0 and 99, i'ii use parameters like **`min`** & **`max`** to ensure that user enters the values between the defined range only.\n",
        "\n",
        "`import pyinputplus as pyip`  \n",
        "`wholenumber = pyip.inputInt(prompt='Enter a number: ', min=0, max=100)`   \n",
        "`print(wholenumber)`  "
      ]
    },
    {
      "cell_type": "markdown",
      "source": [
        "\n",
        "\n",
        "---\n",
        "\n"
      ],
      "metadata": {
        "id": "HMUGBKlzvm-4"
      },
      "id": "HMUGBKlzvm-4"
    },
    {
      "cell_type": "markdown",
      "id": "a3266159",
      "metadata": {
        "id": "a3266159"
      },
      "source": [
        "#### 5. What is transferred to the keyword arguments allowRegexes and blockRegexes?\n",
        "**Ans:** \n",
        "\n",
        "We can use **`allowRegexes`** and **`blockRegexes`** keyword arguments to take list of regular expression strings to determine\n",
        "what the pyinputplus function will reject or accept valid input."
      ]
    },
    {
      "cell_type": "markdown",
      "source": [
        "\n",
        "\n",
        "---\n",
        "\n"
      ],
      "metadata": {
        "id": "7afbvECovqph"
      },
      "id": "7afbvECovqph"
    },
    {
      "cell_type": "markdown",
      "id": "20251b09",
      "metadata": {
        "id": "20251b09"
      },
      "source": [
        "#### 6. If a blank input is entered three times, what does inputStr(limit=3) do?\n",
        "**Ans:** \n",
        "\n",
        "The statement **`inputStr(limit=3)`** will throw two exceptions **`ValidationException`** and **`RetryLimitException`**. The first exception is thrown because blank values are not allowed by inputStr() function by default. it we want to consider blank values as valid input, we have to set **`blank=True`**.\n",
        "\n",
        "The second exception is occured because we have reached the max limit we have specified by using **`limit`** parameter. inorder to avoid this exception we can use **`default`** parameter to return a default value when max limit is reached."
      ]
    },
    {
      "cell_type": "markdown",
      "source": [
        "\n",
        "\n",
        "---\n",
        "\n"
      ],
      "metadata": {
        "id": "n0O8_JgcvtWy"
      },
      "id": "n0O8_JgcvtWy"
    },
    {
      "cell_type": "markdown",
      "id": "a57b26ea",
      "metadata": {
        "id": "a57b26ea"
      },
      "source": [
        "#### 7. If blank input is entered three times, what does inputStr(limit=3, default='hello') do?\n",
        "**Ans:** \n",
        "\n",
        "Since the default parameter is set to **`hello`**. after blank input is entered three times instead of raising **`RetryLimitException`** exception. the function will return **`hello`** as response to the calling function"
      ]
    },
    {
      "cell_type": "markdown",
      "source": [
        "\n",
        "\n",
        "---\n",
        "\n",
        "\n",
        "\n",
        "---\n",
        "\n"
      ],
      "metadata": {
        "id": "G5bVvj75vurW"
      },
      "id": "G5bVvj75vurW"
    }
  ],
  "metadata": {
    "kernelspec": {
      "display_name": "Python 3",
      "language": "python",
      "name": "python3"
    },
    "language_info": {
      "codemirror_mode": {
        "name": "ipython",
        "version": 3
      },
      "file_extension": ".py",
      "mimetype": "text/x-python",
      "name": "python",
      "nbconvert_exporter": "python",
      "pygments_lexer": "ipython3",
      "version": "3.8.8"
    },
    "colab": {
      "provenance": []
    }
  },
  "nbformat": 4,
  "nbformat_minor": 5
}