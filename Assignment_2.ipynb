{
  "nbformat": 4,
  "nbformat_minor": 0,
  "metadata": {
    "colab": {
      "provenance": []
    },
    "kernelspec": {
      "name": "python3",
      "display_name": "Python 3"
    },
    "language_info": {
      "name": "python"
    }
  },
  "cells": [
    {
      "cell_type": "markdown",
      "source": [
        "# Assignment_02"
      ],
      "metadata": {
        "id": "-2rAmV907ppJ"
      }
    },
    {
      "cell_type": "markdown",
      "source": [
        "\n",
        "\n",
        "---\n",
        "\n"
      ],
      "metadata": {
        "id": "ieKbB5IaL1ch"
      }
    },
    {
      "cell_type": "markdown",
      "source": [
        "1. What are the two values of the Boolean data type? How do you write them?\n",
        "2. What are the three different types of Boolean operators?\n",
        "3. Make a list of each Boolean operator&#39;s truth tables (i.e. every possible combination of Boolean\n",
        "values for the operator and what it evaluate).\n",
        "4. What are the values of the following expressions?\n",
        "- (5 > 4) and (3 == 5)\n",
        "- not (5 > 4)\n",
        "- (5 > 4) or (3 == 5)\n",
        "- not ((5 > 4) or (3 == 5))\n",
        "- (True and True) and (True == False)\n",
        "- (not False) or (not True)\n",
        "5. What are the six comparison operators?\n",
        "6. How do you tell the difference between the equal to and assignment operators?Describe a\n",
        "condition and when you would use one.\n",
        "7. Identify the three blocks in this code:\n",
        "- spam = 0\n",
        "- if spam == 10:\n",
        "- print('eggs')\n",
        "- if spam > 5:\n",
        "- print('bacon')\n",
        "\n",
        "else:\n",
        "- print('ham')\n",
        "- print('spam')\n",
        "- print('spam')\n",
        "\n",
        "\n"
      ],
      "metadata": {
        "id": "9eCIQw0a55Bz"
      }
    },
    {
      "cell_type": "markdown",
      "source": [
        "## Answer Sheet\n",
        "\n",
        "---\n",
        "\n",
        "\n",
        "\n",
        "---\n",
        "\n"
      ],
      "metadata": {
        "id": "7Uevw-wtCXpD"
      }
    },
    {
      "cell_type": "markdown",
      "source": [
        "1.What are the two values of the Boolean data type? How do you write them?\n",
        "\n",
        "Ans- The Boolean type has only two values:\n",
        "1. True.\n",
        "2. False.\n",
        "\n",
        "Boolean expressions use relational and logical operators\n",
        "- true or false, yes or no, 1 or 0."
      ],
      "metadata": {
        "id": "ZsOGaPlL8Lt3"
      }
    },
    {
      "cell_type": "markdown",
      "source": [
        "\n",
        "\n",
        "---\n",
        "\n"
      ],
      "metadata": {
        "id": "VzGyXqEACUI9"
      }
    },
    {
      "cell_type": "markdown",
      "source": [
        "2.What are the three different types of Boolean operators?\n",
        "\n",
        "Logical Opertors\n",
        "\n",
        "Keyword | Meaning\n",
        "-|-\n",
        "not     |unary negation\n",
        "and     |condition AND\n",
        "or      |condition OR\n"
      ],
      "metadata": {
        "id": "kd8e3_oq_cj9"
      }
    },
    {
      "cell_type": "markdown",
      "source": [
        "\n",
        "\n",
        "---\n",
        "\n"
      ],
      "metadata": {
        "id": "axcYGtWnCSU5"
      }
    },
    {
      "cell_type": "markdown",
      "source": [
        "3.Make a list of each Boolean operator's truth tables (i.e. every possible combination of Boolean values for the operator and what it evaluate)?\n",
        "\n",
        "Ans-\n",
        "\n",
        "True and True is True.\n",
        "\n",
        "True and False is False.\n",
        "\n",
        "False and True is False.\n",
        "\n",
        "False and False is False.\n",
        "\n",
        "True or True is True.\n",
        "\n",
        "True or False is True.\n",
        "\n",
        "False or True is True.\n",
        "\n",
        "False or False is False.\n",
        "\n",
        "not True is False.\n",
        "\n",
        "not False is True.\n",
        "\n",
        "\n"
      ],
      "metadata": {
        "id": "yUWE5TIL_7fN"
      }
    },
    {
      "cell_type": "markdown",
      "source": [
        "\n",
        "\n",
        "---\n",
        "\n"
      ],
      "metadata": {
        "id": "o45Fg5hzCQJH"
      }
    },
    {
      "cell_type": "markdown",
      "source": [
        "4.What are the values of the following expressions?\n",
        "\n",
        "(5 > 4) and (3 == 5)\n",
        "not (5 > 4)\n",
        "(5 > 4) or (3 == 5)\n",
        "not ((5 > 4) or (3 == 5))\n",
        "(True and True) and (True == False)\n",
        "(not False) or (not True)\n",
        "\n",
        "Ans-\n",
        "- False\n",
        "- False\n",
        "- True\n",
        "- False\n",
        "- False\n",
        "- True\n",
        "\n",
        "\n",
        "\n"
      ],
      "metadata": {
        "id": "g8LSVJQyBke8"
      }
    },
    {
      "cell_type": "markdown",
      "source": [
        "\n",
        "\n",
        "---\n",
        "\n"
      ],
      "metadata": {
        "id": "H-jtNcLBCMgD"
      }
    },
    {
      "cell_type": "markdown",
      "source": [
        "5.# What are the six comparison operators?\n",
        "\n",
        "Ans - \n",
        "\n",
        "==, !=, <, >, <=, and >=."
      ],
      "metadata": {
        "id": "iK8UzGSECDG7"
      }
    },
    {
      "cell_type": "markdown",
      "source": [
        "\n",
        "\n",
        "---\n",
        "\n"
      ],
      "metadata": {
        "id": "9W3lhKk2CaGr"
      }
    },
    {
      "cell_type": "markdown",
      "source": [
        "6.Identify the three blocks in this code:\n",
        "\n",
        "spam = 0\n",
        "if spam == 10:\n",
        "print('eggs')\n",
        "if spam > 5:\n",
        "print('bacon')\n",
        "else:\n",
        "print('ham')\n",
        "print('spam')\n",
        "print('spam')\n",
        "\n",
        "\n",
        "Ans - \n",
        "\n",
        "The three blocks are lines print('bacon') and print('ham').\n",
        "\n",
        "spam = 0\n",
        "if spam == 10\n",
        "print('eggs')\n",
        "if spam > 5:\n",
        "print('bacon')\n",
        "else:\n",
        "print('ham')\n",
        "print('spam')\n",
        "\n",
        "\n",
        "\n"
      ],
      "metadata": {
        "id": "80K0qhYKCbSa"
      }
    },
    {
      "cell_type": "code",
      "source": [
        "# blocks are Lines print to ('bacon') and ('ham')\n",
        "spam = 0\n",
        "if spam == 10:\n",
        " print('eggs')\n",
        "if spam > 5:\n",
        " print('bacon') or print('ham')\n",
        "\n",
        "else:\n",
        " print('bacon') or print('ham')"
      ],
      "metadata": {
        "colab": {
          "base_uri": "https://localhost:8080/"
        },
        "id": "maPkHQPVEvbw",
        "outputId": "fb97b130-c4a1-45c8-c586-a3507ea24df0"
      },
      "execution_count": 16,
      "outputs": [
        {
          "output_type": "stream",
          "name": "stdout",
          "text": [
            "bacon\n",
            "ham\n"
          ]
        }
      ]
    },
    {
      "cell_type": "markdown",
      "source": [
        "\n",
        "\n",
        "---\n",
        "\n",
        "\n",
        "\n",
        "---\n",
        "\n"
      ],
      "metadata": {
        "id": "tOS4RYkNLrnm"
      }
    }
  ]
}