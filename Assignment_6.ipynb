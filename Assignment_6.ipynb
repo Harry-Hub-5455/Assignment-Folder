{
  "cells": [
    {
      "cell_type": "markdown",
      "metadata": {
        "id": "GUAJGu3irBAs"
      },
      "source": [
        "# Assignment_6"
      ]
    },
    {
      "cell_type": "markdown",
      "source": [
        "\n",
        "\n",
        "---\n",
        "\n"
      ],
      "metadata": {
        "id": "_YjkXmaIrl5b"
      }
    },
    {
      "cell_type": "markdown",
      "source": [
        "1.What are Escape characters ? and how do you use them ?\n",
        "\n",
        "2.What do the escape characters n and t stand for ?\n",
        "\n",
        "3.What is the way to include backslash character in a string?\n",
        "\n",
        "4.The string \"Howl's Moving Castle\" is a correct value. Why isn't the single quote character in the word Howl's not escaped a problem ?\n",
        "\n",
        "5.How do you write a string of newlines if you don't want to use the n character?\n",
        "\n",
        "6.What are the values of the given expressions?\n",
        "'Hello, world!'[1]\n",
        "'Hello, world!'[0:5]\n",
        "'Hello, world!'[:5]\n",
        "'Hello, world!'[3:]\n",
        "\n",
        "7.What are the values of the following expressions?\n",
        "'Hello'.upper()\n",
        "'Hello'.upper().isupper()\n",
        "'Hello'.upper().lower()\n",
        "\n",
        "8.What are the values of the following expressions?\n",
        "'Remember, remember, the fifth of July.'.split()\n",
        "-'.join('There can only one'.split())\n",
        "\n",
        "9.What are the methods for right-justifying, left-justifying, and centering a string?\n",
        "\n",
        "10.What is the best way to remove whitespace characters from the start or end?"
      ],
      "metadata": {
        "id": "pjAkAjWSsDaP"
      }
    },
    {
      "cell_type": "markdown",
      "source": [
        "#Answer Sheet"
      ],
      "metadata": {
        "id": "XE6usg1ytO2_"
      }
    },
    {
      "cell_type": "markdown",
      "source": [
        "\n",
        "\n",
        "---\n",
        "\n",
        "\n",
        "\n",
        "---\n",
        "\n"
      ],
      "metadata": {
        "id": "MgG1SE5ntJyI"
      }
    },
    {
      "cell_type": "markdown",
      "metadata": {
        "id": "ALFItWaUrBBN"
      },
      "source": [
        "#### 1.What are Escape characters ? and how do you use them ?\n",
        "\n",
        "\n",
        "**Ans:** \n",
        "\n",
        "Escape characters represent characters in string values that would otherwise be difficult or impossible to type into code. we can use the backslash `character` to escape a single character or symbol  \n",
        "**example:** `\\t, \\n`\n"
      ]
    },
    {
      "cell_type": "markdown",
      "source": [
        "\n",
        "\n",
        "---\n",
        "\n"
      ],
      "metadata": {
        "id": "veAsOaRSrpXq"
      }
    },
    {
      "cell_type": "markdown",
      "metadata": {
        "id": "9LuZi8AJrBBQ"
      },
      "source": [
        "#### 2.What do the escape characters n and t stand for ?\n",
        "**Ans:**\n",
        "\n",
        " `\\n` is a newline, `\\t` is a tab"
      ]
    },
    {
      "cell_type": "markdown",
      "source": [
        "\n",
        "\n",
        "---\n",
        "\n"
      ],
      "metadata": {
        "id": "zIpCdSk9rrIf"
      }
    },
    {
      "cell_type": "markdown",
      "metadata": {
        "id": "dz-un_6OrBBR"
      },
      "source": [
        "#### 3.What is the way to include backslash character in a string?\n",
        "**Ans:** \n",
        "\n",
        "The `\\\\` escape character will represent the backslash character in a string"
      ]
    },
    {
      "cell_type": "markdown",
      "source": [
        "\n",
        "\n",
        "---\n",
        "\n"
      ],
      "metadata": {
        "id": "Yu34uEGbrtbZ"
      }
    },
    {
      "cell_type": "markdown",
      "metadata": {
        "id": "-WsRLmOLrBBZ"
      },
      "source": [
        "#### 4.The string \"Howl's Moving Castle\" is a correct value. Why isn't the single quote character in the word Howl's not escaped a problem ?\n",
        "\n",
        "**Ans:** \n",
        "\n",
        "The string `\"Howl's Moving Castle\"` escaped the problem because it is wrapped inside double quotes. if its wrapped inside single quotes then we have to use escape character `\\'` to show single quote in the final output  \n",
        "`'Howl\\'s Moving Castle'` **`->`** `'Howl's Moving Castle'`"
      ]
    },
    {
      "cell_type": "markdown",
      "source": [
        "\n",
        "\n",
        "---\n",
        "\n"
      ],
      "metadata": {
        "id": "nnZ1T2vVrv21"
      }
    },
    {
      "cell_type": "markdown",
      "metadata": {
        "id": "z14YIOpbrBBb"
      },
      "source": [
        "#### 5.How do you write a string of newlines if you don't want to use the n character?\n",
        "\n",
        "**Ans:** \n",
        "\n",
        "The Multiline string allow you to use newlines in string without the `\\n` escape character  "
      ]
    },
    {
      "cell_type": "code",
      "execution_count": 1,
      "metadata": {
        "colab": {
          "base_uri": "https://localhost:8080/"
        },
        "id": "FgeWD0IOrBBo",
        "outputId": "ad9cd614-9ff6-4fb4-8a89-e0eed44c7519"
      },
      "outputs": [
        {
          "output_type": "stream",
          "name": "stdout",
          "text": [
            "Hey There,\n",
            "Welcome!\n"
          ]
        }
      ],
      "source": [
        "# Example:\n",
        "\n",
        "a = '''Hey There,\n",
        "Welcome!'''\n",
        "print(a)"
      ]
    },
    {
      "cell_type": "markdown",
      "source": [
        "\n",
        "\n",
        "---\n",
        "\n"
      ],
      "metadata": {
        "id": "a9uLiHwfrx7K"
      }
    },
    {
      "cell_type": "markdown",
      "metadata": {
        "id": "tKlaUbW7rBBv"
      },
      "source": [
        "#### 6.What are the values of the given expressions ?\n",
        "'Hello, world!'[1]  \n",
        "'Hello, world!'[0:5]  \n",
        "'Hello, world!'[:5]  \n",
        "'Hello, world!'[3:]\n",
        "\n",
        "**Ans:** \n",
        "\n",
        "- The values for the given expressions are:  \n",
        "'Hello, world!'[1] **`->`**  `'e'`  \n",
        "'Hello, world!'[0:5] **`->`**  `'Hello'`  \n",
        "'Hello, world!'[:5] **`->`**  `'Hello'`  \n",
        "'Hello, world!'[3:] **`->`**  `'lo, world!'`"
      ]
    },
    {
      "cell_type": "markdown",
      "source": [
        "\n",
        "\n",
        "---\n",
        "\n"
      ],
      "metadata": {
        "id": "M7U-kNAzr1K1"
      }
    },
    {
      "cell_type": "markdown",
      "metadata": {
        "id": "jodKeW03rBB3"
      },
      "source": [
        "#### 7.What are the values of the following expressions ?\n",
        "'Hello'.upper()  \n",
        "'Hello'.upper().isupper()  \n",
        "'Hello'.upper().lower()    \n",
        "\n",
        "**Ans:** \n",
        "\n",
        "- The values for the given expressions are:  \n",
        "'Hello'.upper() **`->`** `'HELLO'`  \n",
        "'Hello'.upper().isupper() **`->`**  `True`    \n",
        "'Hello'.upper().lower() **`->`** `'hello'`  "
      ]
    },
    {
      "cell_type": "markdown",
      "source": [
        "\n",
        "\n",
        "---\n",
        "\n"
      ],
      "metadata": {
        "id": "ws6z7rBPr3-B"
      }
    },
    {
      "cell_type": "markdown",
      "metadata": {
        "id": "hZbBSpHMrBB-"
      },
      "source": [
        "#### 8.What are the values of the following expressions ?\n",
        "\n",
        "'Remember, remember, the fifith of July.'.split()  \n",
        "-'.join('There can only one'.split())\n",
        "\n",
        "**Ans:** \n",
        "\n",
        "- *The* values for the given expressions are:  \n",
        "'Remember, remember, the fifith of July.'.split()  **`->`** `['Remember,', 'remember,', 'the', 'fifith', 'of', 'July.']`  \n",
        "'-'.join('There can only one'.split()) **`->`** `'There-can-only-one'` "
      ]
    },
    {
      "cell_type": "markdown",
      "source": [
        "\n",
        "\n",
        "---\n",
        "\n"
      ],
      "metadata": {
        "id": "7g6fA6uCr5mC"
      }
    },
    {
      "cell_type": "markdown",
      "metadata": {
        "id": "XTwtm0AKrBB_"
      },
      "source": [
        "#### 9.What are the methods for right-justifying, left-justifying and centering a string ?\n",
        "\n",
        "Indented block> \n",
        "\n",
        "\n",
        "**Ans:** \n",
        "\n",
        "*The* `rjust()`,`ljust()`,`center()` string methods, respectively"
      ]
    },
    {
      "cell_type": "markdown",
      "source": [
        "\n",
        "\n",
        "---\n",
        "\n"
      ],
      "metadata": {
        "id": "Ytf2IkWDr7WZ"
      }
    },
    {
      "cell_type": "markdown",
      "metadata": {
        "id": "R7qzpwFArBCB"
      },
      "source": [
        "#### 10.What is the best way to remove whitespace characters from the start or end ?\n",
        "\n",
        "**Ans:** \n",
        "\n",
        "The `lstrip()` and `rstrip()` methods remove whitesapce characters from the left and right ends of a string respectively"
      ]
    },
    {
      "cell_type": "markdown",
      "source": [
        "\n",
        "\n",
        "---\n",
        "\n",
        "\n",
        "\n",
        "---\n",
        "\n"
      ],
      "metadata": {
        "id": "IwvIyWlhr9js"
      }
    }
  ],
  "metadata": {
    "kernelspec": {
      "display_name": "Python 3",
      "language": "python",
      "name": "python3"
    },
    "language_info": {
      "codemirror_mode": {
        "name": "ipython",
        "version": 3
      },
      "file_extension": ".py",
      "mimetype": "text/x-python",
      "name": "python",
      "nbconvert_exporter": "python",
      "pygments_lexer": "ipython3",
      "version": "3.8.8"
    },
    "colab": {
      "provenance": []
    }
  },
  "nbformat": 4,
  "nbformat_minor": 0
}