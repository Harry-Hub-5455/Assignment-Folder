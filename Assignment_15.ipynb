{
  "cells": [
    {
      "cell_type": "markdown",
      "id": "2d52bfc1",
      "metadata": {
        "id": "2d52bfc1"
      },
      "source": [
        "# Assignment_15\n",
        "\n",
        "---\n",
        "\n"
      ]
    },
    {
      "cell_type": "markdown",
      "id": "488af655",
      "metadata": {
        "id": "488af655"
      },
      "source": [
        "#### 1.How many seconds are in an hour? Use the interactive interpreter as a calculator and multiply the number of seconds in a minute (60) by the number of minutes in an hour (also 60)."
      ]
    },
    {
      "cell_type": "code",
      "execution_count": 1,
      "id": "746ad539",
      "metadata": {
        "id": "746ad539",
        "outputId": "7308e29e-6c98-4aac-c120-a57d5e97b008",
        "colab": {
          "base_uri": "https://localhost:8080/"
        }
      },
      "outputs": [
        {
          "output_type": "stream",
          "name": "stdout",
          "text": [
            "3600\n"
          ]
        }
      ],
      "source": [
        "print(60*60)"
      ]
    },
    {
      "cell_type": "markdown",
      "source": [
        "\n",
        "\n",
        "---\n",
        "\n"
      ],
      "metadata": {
        "id": "jpnLeVtJ8Sde"
      },
      "id": "jpnLeVtJ8Sde"
    },
    {
      "cell_type": "markdown",
      "id": "4dc058af",
      "metadata": {
        "id": "4dc058af"
      },
      "source": [
        "#### 2. Assign the result from the previous task (seconds in an hour) to a variable called seconds_per_hour."
      ]
    },
    {
      "cell_type": "code",
      "execution_count": 2,
      "id": "4d81d33b",
      "metadata": {
        "id": "4d81d33b",
        "outputId": "8bb07cd2-c3d5-4855-85e2-3092c68ff55e",
        "colab": {
          "base_uri": "https://localhost:8080/"
        }
      },
      "outputs": [
        {
          "output_type": "stream",
          "name": "stdout",
          "text": [
            "3600\n"
          ]
        }
      ],
      "source": [
        "seconds_per_hour = 60*60\n",
        "print(seconds_per_hour)"
      ]
    },
    {
      "cell_type": "markdown",
      "source": [
        "\n",
        "\n",
        "---\n",
        "\n"
      ],
      "metadata": {
        "id": "-xJIzeMJ8VJs"
      },
      "id": "-xJIzeMJ8VJs"
    },
    {
      "cell_type": "markdown",
      "id": "03686497",
      "metadata": {
        "id": "03686497"
      },
      "source": [
        "#### 3. How many seconds do you think there are in a day? Make use of the variables seconds per hour and minutes per hour."
      ]
    },
    {
      "cell_type": "code",
      "execution_count": 3,
      "id": "91da538a",
      "metadata": {
        "id": "91da538a",
        "outputId": "e519aeef-cbfe-48cf-809b-d1ff02032fb2",
        "colab": {
          "base_uri": "https://localhost:8080/"
        }
      },
      "outputs": [
        {
          "output_type": "stream",
          "name": "stdout",
          "text": [
            "86400\n"
          ]
        }
      ],
      "source": [
        "minutes_per_hour = 60\n",
        "print(seconds_per_hour*24)"
      ]
    },
    {
      "cell_type": "markdown",
      "source": [
        "\n",
        "\n",
        "---\n",
        "\n"
      ],
      "metadata": {
        "id": "9A5ksRSp8Y6-"
      },
      "id": "9A5ksRSp8Y6-"
    },
    {
      "cell_type": "markdown",
      "id": "6a71cc65",
      "metadata": {
        "id": "6a71cc65"
      },
      "source": [
        "#### 4. Calculate seconds per day again, but this time save the result in a variable called seconds_per_day"
      ]
    },
    {
      "cell_type": "code",
      "execution_count": 4,
      "id": "909641ac",
      "metadata": {
        "id": "909641ac",
        "outputId": "5d7635df-8fce-4f11-d94b-6e34518ae9c0",
        "colab": {
          "base_uri": "https://localhost:8080/"
        }
      },
      "outputs": [
        {
          "output_type": "stream",
          "name": "stdout",
          "text": [
            "86400\n"
          ]
        }
      ],
      "source": [
        "seconds_per_day = 24*60*60\n",
        "print(seconds_per_day)"
      ]
    },
    {
      "cell_type": "markdown",
      "source": [
        "\n",
        "\n",
        "---\n",
        "\n"
      ],
      "metadata": {
        "id": "sLQszerE8b91"
      },
      "id": "sLQszerE8b91"
    },
    {
      "cell_type": "markdown",
      "id": "a85c3969",
      "metadata": {
        "id": "a85c3969"
      },
      "source": [
        "#### 5. Divide seconds_per_day by seconds_per_hour. Use floating-point (/) division."
      ]
    },
    {
      "cell_type": "code",
      "execution_count": 5,
      "id": "b4b3aa9f",
      "metadata": {
        "id": "b4b3aa9f",
        "outputId": "7be834f7-d24a-4a5b-9f1a-4143c103738c",
        "colab": {
          "base_uri": "https://localhost:8080/"
        }
      },
      "outputs": [
        {
          "output_type": "stream",
          "name": "stdout",
          "text": [
            "24.0\n"
          ]
        }
      ],
      "source": [
        "print(seconds_per_day/seconds_per_hour)"
      ]
    },
    {
      "cell_type": "markdown",
      "source": [
        "\n",
        "\n",
        "---\n",
        "\n"
      ],
      "metadata": {
        "id": "hee2cwt48fnt"
      },
      "id": "hee2cwt48fnt"
    },
    {
      "cell_type": "markdown",
      "id": "704f687c",
      "metadata": {
        "id": "704f687c"
      },
      "source": [
        "#### 6. Divide seconds_per_day by seconds_per_hour, using integer (//) division. Did this number agree with the floating-point value from the previous question, aside from the final .0?"
      ]
    },
    {
      "cell_type": "code",
      "execution_count": 6,
      "id": "6adfad23",
      "metadata": {
        "id": "6adfad23",
        "outputId": "da9b168f-508b-489a-e20c-e2f96e1665d9",
        "colab": {
          "base_uri": "https://localhost:8080/"
        }
      },
      "outputs": [
        {
          "output_type": "stream",
          "name": "stdout",
          "text": [
            "24 -> yes this values agree with the floating point value from the previous question\n"
          ]
        }
      ],
      "source": [
        "print(seconds_per_day//seconds_per_hour, end='')\n",
        "print(' -> yes this values agree with the floating point value from the previous question')"
      ]
    },
    {
      "cell_type": "markdown",
      "source": [
        "\n",
        "\n",
        "---\n",
        "\n"
      ],
      "metadata": {
        "id": "yUpDenxz8rMI"
      },
      "id": "yUpDenxz8rMI"
    },
    {
      "cell_type": "markdown",
      "id": "2e59c604",
      "metadata": {
        "id": "2e59c604"
      },
      "source": [
        "#### 7. Write a generator, genPrimes, that returns the sequence of prime numbers on successive calls to its next() method: 2, 3, 5, 7, 11, ..."
      ]
    },
    {
      "cell_type": "code",
      "execution_count": 7,
      "id": "9cfb8a01",
      "metadata": {
        "id": "9cfb8a01",
        "outputId": "2f0d152e-dfd4-4ba1-e668-e25027019b95",
        "colab": {
          "base_uri": "https://localhost:8080/"
        }
      },
      "outputs": [
        {
          "output_type": "stream",
          "name": "stdout",
          "text": [
            "2\n",
            "3\n",
            "5\n",
            "7\n",
            "11\n"
          ]
        }
      ],
      "source": [
        "def genPrimes():\n",
        "    n = 0\n",
        "    while True:\n",
        "        if n == 2 or n == 3 :\n",
        "            yield n\n",
        "        elif ((n-1)%6 == 0 or (n+1)%6 == 0) and n !=1:\n",
        "            yield n\n",
        "        n = n+1\n",
        "        \n",
        "output = genPrimes()\n",
        "for ele in range(5):\n",
        "    print(next(output))"
      ]
    },
    {
      "cell_type": "markdown",
      "source": [
        "\n",
        "\n",
        "\n",
        "---\n",
        "\n",
        "\n",
        "---\n",
        "\n"
      ],
      "metadata": {
        "id": "vDAesz0Z80GG"
      },
      "id": "vDAesz0Z80GG"
    }
  ],
  "metadata": {
    "kernelspec": {
      "display_name": "Python 3 (ipykernel)",
      "language": "python",
      "name": "python3"
    },
    "language_info": {
      "codemirror_mode": {
        "name": "ipython",
        "version": 3
      },
      "file_extension": ".py",
      "mimetype": "text/x-python",
      "name": "python",
      "nbconvert_exporter": "python",
      "pygments_lexer": "ipython3",
      "version": "3.8.8"
    },
    "colab": {
      "provenance": []
    }
  },
  "nbformat": 4,
  "nbformat_minor": 5
}