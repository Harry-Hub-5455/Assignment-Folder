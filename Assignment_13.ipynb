{
  "cells": [
    {
      "cell_type": "markdown",
      "id": "e3bb5f2d",
      "metadata": {
        "id": "e3bb5f2d"
      },
      "source": [
        "# Assignment_13\n",
        "\n",
        "---\n",
        "\n"
      ]
    },
    {
      "cell_type": "markdown",
      "id": "d8aab80a",
      "metadata": {
        "id": "d8aab80a"
      },
      "source": [
        "#### 1. What advantages do Excel spreadsheets have over CSV spreadsheets?\n",
        "**Ans:** \n",
        "\n",
        "The Advantages of Excel over CSV are:\n",
        "1. Excel (XLS and XLSX) file formats are better for storing and analysing complex data.\n",
        "2. An Excel not only stores data but can also do operations on the data using macros, formulas etc\n",
        "3. CSV files are plain-text files, Does not contain formatting, formulas, macros, etc. It is also known as flat files"
      ]
    },
    {
      "cell_type": "markdown",
      "source": [
        "\n",
        "\n",
        "---\n",
        "\n"
      ],
      "metadata": {
        "id": "OeEMSuboPtUH"
      },
      "id": "OeEMSuboPtUH"
    },
    {
      "cell_type": "markdown",
      "id": "b66e958d",
      "metadata": {
        "id": "b66e958d"
      },
      "source": [
        "#### 2.What do you pass to csv.reader() and csv.writer() to create reader and writer objects?"
      ]
    },
    {
      "cell_type": "code",
      "execution_count": null,
      "id": "e7c67268",
      "metadata": {
        "id": "e7c67268"
      },
      "outputs": [],
      "source": [
        "import csv\n",
        "with open('sample.csv','r') as file:\n",
        "    csv_file = csv.reader(file,delimiter=',')\n",
        "    for row in csv_file:\n",
        "        print(row)"
      ]
    },
    {
      "cell_type": "markdown",
      "source": [
        "\n",
        "\n",
        "---\n",
        "\n"
      ],
      "metadata": {
        "id": "JVGpkMLKjvlB"
      },
      "id": "JVGpkMLKjvlB"
    },
    {
      "cell_type": "markdown",
      "id": "c3478f56",
      "metadata": {
        "id": "c3478f56"
      },
      "source": [
        "#### 3. What modes do File objects for reader and writer objects need to be opened in?\n",
        "**Ans:** For `csv.reader(iterable_file_object)`, the file objects needed to be opened in `read` mode `mode='r'` Whereas for `csv.writer(iterable_file_object)` the file objects needed to be opened in `write` mode `mode='w'`\n"
      ]
    },
    {
      "cell_type": "markdown",
      "source": [
        "\n",
        "\n",
        "---\n",
        "\n"
      ],
      "metadata": {
        "id": "LpK1OmHHZiWf"
      },
      "id": "LpK1OmHHZiWf"
    },
    {
      "cell_type": "markdown",
      "id": "c2f017ec",
      "metadata": {
        "id": "c2f017ec"
      },
      "source": [
        "#### 4. What method takes a list argument and writes it to a CSV file?\n",
        "**Ans:** \n",
        "\n",
        "csv.writer class provides two methods for writing to CSV. They are `writerow()` and `writerows().` writerow() method writes a single row at a time. Whereas writerows() method is used to write multiple rows at a time."
      ]
    },
    {
      "cell_type": "code",
      "execution_count": 13,
      "id": "3a3e46b5",
      "metadata": {
        "id": "3a3e46b5"
      },
      "outputs": [],
      "source": [
        "# Example Program\n",
        "import csv      \n",
        "fields = ['Name', 'Branch', 'Year', 'CGPA'] #column names \n",
        "rows = [ \n",
        "            ['Nilesh', 'ET', '2', '9.0'],  # data rows of csv file \n",
        "            ['Riya', 'COE', '2', '9.1'], \n",
        "            ['Harry', 'IT', '2', '9.3']\n",
        "       ] \n",
        "with open(\"university_records.csv\", 'w') as csvfile: \n",
        "    csvwriter = csv.writer(csvfile) # creating a csv writer object \n",
        "    csvwriter.writerow(fields) # writing the fields \n",
        "    csvwriter.writerows(rows) # writing the data rows "
      ]
    },
    {
      "cell_type": "markdown",
      "source": [
        "\n",
        "\n",
        "---\n",
        "\n"
      ],
      "metadata": {
        "id": "tc0CrKxzZAUE"
      },
      "id": "tc0CrKxzZAUE"
    },
    {
      "cell_type": "markdown",
      "id": "68179164",
      "metadata": {
        "id": "68179164"
      },
      "source": [
        "#### 5. What do the keyword arguments delimiter and line terminator do?\n",
        "**Ans:** \n",
        "\n",
        "Lets take the example of a csv file:  \n",
        "`First Name, Last Name, Age`  \n",
        "`hari, Harry, 24`  \n",
        "`Harry, Malusare, 21`  \n",
        "Here `','` is Delimiter. We can use any Character as per our needs if required. Similarly Line Terminator comes at end of line by default it is newline and can be changed accourding to Requirement.\n",
        "\n",
        "Example:\n",
        "```\n",
        "import csv\n",
        "\n",
        "  csvFile = open('sample.csv', 'w', newline='')\n",
        "\n",
        "  csvWriter = csv.writer(csvFile, delimiter='\\t', lineterminator='\\n\\n')\n",
        "\n",
        "  csvWriter.writerow(['apples', 'oranges', 'grapes'])\n",
        "   \n",
        "  csvWriter.writerow(['eggs', 'bacon', 'ham'])\n",
        "   \n",
        "  csvWriter.writerow(['spam', 'spam', 'spam', 'spam', 'spam', 'spam'])\n",
        "   \n",
        "  csvFile.close()\n",
        "  ```"
      ]
    },
    {
      "cell_type": "markdown",
      "source": [
        "\n",
        "\n",
        "---\n",
        "\n"
      ],
      "metadata": {
        "id": "quY1UlMhXAfp"
      },
      "id": "quY1UlMhXAfp"
    },
    {
      "cell_type": "markdown",
      "id": "94752f89",
      "metadata": {
        "id": "94752f89"
      },
      "source": [
        "#### 6. What function takes a string of JSON data and returns a Python data structure?\n",
        "**Ans:** \n",
        "\n",
        "`loads()` method takes a string of JSON data and returns a Python data structure"
      ]
    },
    {
      "cell_type": "code",
      "execution_count": 11,
      "id": "cf976f3f",
      "metadata": {
        "colab": {
          "base_uri": "https://localhost:8080/"
        },
        "id": "cf976f3f",
        "outputId": "2958fa71-0495-43e4-9996-ceee3eba47fa"
      },
      "outputs": [
        {
          "output_type": "stream",
          "name": "stdout",
          "text": [
            "{\n",
            "    \"Name\": \"Harry Malusare\",\n",
            "    \"Qualification\": \"Bachelor of Technology\",\n",
            "    \"Stream\": \"Computer Science and Engineering\"\n",
            "}\n",
            "Type of my_details_json is <class 'str'>\n",
            "{'Name': 'Harry Malusare', 'Qualification': 'Bachelor of Technology', 'Stream': 'Computer Science and Engineering'}\n",
            "Type of my_details is <class 'dict'>\n"
          ]
        }
      ],
      "source": [
        "# Example of json.loads() method\n",
        "import json\n",
        "my_details_json ='''{\n",
        "    \"Name\": \"Harry Malusare\",\n",
        "    \"Qualification\": \"Bachelor of Technology\",\n",
        "    \"Stream\": \"Computer Science and Engineering\"\n",
        "}'''\n",
        "print(my_details_json)\n",
        "print(f'Type of my_details_json is {type(my_details_json)}')\n",
        "my_details = json.loads(my_details_json)\n",
        "print(my_details)\n",
        "print(f'Type of my_details is {type(my_details)}')"
      ]
    },
    {
      "cell_type": "markdown",
      "source": [
        "\n",
        "\n",
        "---\n",
        "\n"
      ],
      "metadata": {
        "id": "1YepPBulW0pV"
      },
      "id": "1YepPBulW0pV"
    },
    {
      "cell_type": "markdown",
      "id": "bc39716d",
      "metadata": {
        "id": "bc39716d"
      },
      "source": [
        "#### 7. What function takes a Python data structure and returns a string of JSON data?\n",
        "**Ans:** \n",
        "\n",
        "`dumps()` method takes a python data structure and returns a string of JSON data"
      ]
    },
    {
      "cell_type": "code",
      "execution_count": 10,
      "id": "5125a827",
      "metadata": {
        "colab": {
          "base_uri": "https://localhost:8080/"
        },
        "id": "5125a827",
        "outputId": "7dbc87c1-984b-4906-d389-966f7cefeda1"
      },
      "outputs": [
        {
          "output_type": "stream",
          "name": "stdout",
          "text": [
            "{'Name': 'Harry Malusare', 'Stream': 'Computer Science and Engineering', 'Qualification': 'Bachelor of Technology'}\n",
            "Type of my_details is <class 'dict'>\n",
            "{\n",
            "    \"Name\": \"Harry Malusare\",\n",
            "    \"Qualification\": \"Bachelor of Technology\",\n",
            "    \"Stream\": \"Computer Science and Engineering\"\n",
            "}\n",
            "Type of my_details_json is <class 'str'>\n"
          ]
        }
      ],
      "source": [
        "# Example of json.dumps() method\n",
        "\n",
        "import json\n",
        "my_details = {\n",
        "    'Name':'Harry Malusare',\n",
        "    'Stream':'Computer Science and Engineering',\n",
        "    'Qualification':'Bachelor of Technology'\n",
        "}\n",
        "print(my_details)\n",
        "print(f'Type of my_details is {type(my_details)}')\n",
        "my_details_json = json.dumps(my_details, indent=4, sort_keys=True)\n",
        "print(my_details_json)\n",
        "print(f'Type of my_details_json is {type(my_details_json)}')"
      ]
    },
    {
      "cell_type": "markdown",
      "source": [
        "\n",
        "\n",
        "---\n",
        "\n",
        "\n",
        "\n",
        "---\n",
        "\n"
      ],
      "metadata": {
        "id": "eYKiUbr0WuYr"
      },
      "id": "eYKiUbr0WuYr"
    }
  ],
  "metadata": {
    "kernelspec": {
      "display_name": "Python 3",
      "language": "python",
      "name": "python3"
    },
    "language_info": {
      "codemirror_mode": {
        "name": "ipython",
        "version": 3
      },
      "file_extension": ".py",
      "mimetype": "text/x-python",
      "name": "python",
      "nbconvert_exporter": "python",
      "pygments_lexer": "ipython3",
      "version": "3.8.8"
    },
    "colab": {
      "provenance": []
    }
  },
  "nbformat": 4,
  "nbformat_minor": 5
}