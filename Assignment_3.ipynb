{
  "nbformat": 4,
  "nbformat_minor": 0,
  "metadata": {
    "colab": {
      "provenance": []
    },
    "kernelspec": {
      "name": "python3",
      "display_name": "Python 3"
    },
    "language_info": {
      "name": "python"
    }
  },
  "cells": [
    {
      "cell_type": "markdown",
      "source": [
        "# Assignment_03\n",
        "\n",
        "\n"
      ],
      "metadata": {
        "id": "jUqQErRESkB7"
      }
    },
    {
      "cell_type": "markdown",
      "source": [
        "1. Why are functions advantageous to have in your programs?\n",
        "2. When does the code in a function run: when it&#39;s specified or when it&#39;s called?\n",
        "3. What statement creates a function?\n",
        "4. What is the difference between a function and a function call?\n",
        "5. How many global scopes are there in a Python program? How many local scopes?\n",
        "6. What happens to variables in a local scope when the function call returns?\n",
        "7. What is the concept of a return value? Is it possible to have a return value in an expression?\n",
        "8. If a function does not have a return statement, what is the return value of a call to that function?\n",
        "9. How do you make a function variable refer to the global variable?\n",
        "10. What is the data type of None?\n",
        "11. What does the sentence import areallyourpetsnamederic do?\n",
        "12. If you had a bacon() feature in a spam module, what would you call it after importing spam?\n",
        "13. What can you do to save a programme from crashing if it encounters an error?\n",
        "14. What is the purpose of the try clause? What is the purpose of the except clause?"
      ],
      "metadata": {
        "id": "hvx-J-MFSWYq"
      }
    },
    {
      "cell_type": "markdown",
      "source": [
        "# Answer Sheet"
      ],
      "metadata": {
        "id": "FPD59eM_Tg5N"
      }
    },
    {
      "cell_type": "markdown",
      "source": [
        "\n",
        "\n",
        "---\n",
        "\n",
        "\n",
        "\n",
        "---\n",
        "\n"
      ],
      "metadata": {
        "id": "ibSljpXOTe_y"
      }
    },
    {
      "cell_type": "markdown",
      "source": [
        "1.Why are functions advantageous to have in your programs?\n",
        "\n",
        "Ans-\n",
        "\n",
        "the Functions are reduce the need for duplicate proggrams or code. This makes programs or code easier to read, and easier to update."
      ],
      "metadata": {
        "id": "c0TnnGFMTlss"
      }
    },
    {
      "cell_type": "markdown",
      "source": [
        "\n",
        "\n",
        "---\n",
        "\n"
      ],
      "metadata": {
        "id": "PeVVNyRRUcN-"
      }
    },
    {
      "cell_type": "markdown",
      "source": [
        "2.When does the code in a function run: when it's specified or when it's called?\n",
        "\n",
        "Ans-\n",
        "\n",
        "The code/programs in a function executes when the function is called, not when the function is defined."
      ],
      "metadata": {
        "id": "oubrXwWJUD4X"
      }
    },
    {
      "cell_type": "markdown",
      "source": [
        "\n",
        "\n",
        "---\n",
        "\n"
      ],
      "metadata": {
        "id": "lwh2PZjrUdsW"
      }
    },
    {
      "cell_type": "markdown",
      "source": [
        "3.What statement creates a function?\n",
        "\n",
        "Ans-\n",
        "\n",
        "The [“def”] keyword is a statement for defining a function in Python.\n",
        "The def statement defines [that is, creates] a function.\n"
      ],
      "metadata": {
        "id": "IO0ZZuUsUe4a"
      }
    },
    {
      "cell_type": "markdown",
      "source": [
        "\n",
        "\n",
        "---\n",
        "\n"
      ],
      "metadata": {
        "id": "ZmGkeS-qVA7v"
      }
    },
    {
      "cell_type": "markdown",
      "source": [
        "4.What is the difference between a function and a function call?\n",
        "\n",
        "Ans-\n",
        "\n",
        "- A function is a block of code that does a particular operation and returns a result.accepts inputs as parameters and returns a result.\n",
        "\n",
        "- A function call is what moves the program execution into the function, and the function call evaluates to the function's return value.\n",
        "\n"
      ],
      "metadata": {
        "id": "uHHFGeOqVCLJ"
      }
    },
    {
      "cell_type": "markdown",
      "source": [
        "5.How many global scopes are there in a Python program? How many local scopes?\n",
        "\n",
        "Ans-\n",
        "\n",
        "That is one global scope, and a local scope is created whenever a function is called."
      ],
      "metadata": {
        "id": "jGyvmB5hVs59"
      }
    },
    {
      "cell_type": "markdown",
      "source": [
        "\n",
        "\n",
        "---\n",
        "\n"
      ],
      "metadata": {
        "id": "cFsSKlJPVlay"
      }
    },
    {
      "cell_type": "markdown",
      "source": [
        "6.What happens to variables in a local scope when the function call returns?\n",
        "\n",
        "Ans-\n",
        "\n",
        "The function returns, the local scope is destroyed, and all the variables in it are forgotten."
      ],
      "metadata": {
        "id": "rHduzFEaWBvx"
      }
    },
    {
      "cell_type": "markdown",
      "source": [
        "\n",
        "\n",
        "---\n",
        "\n"
      ],
      "metadata": {
        "id": "fyV1ngvwWz9O"
      }
    },
    {
      "cell_type": "markdown",
      "source": [
        "7.What is the concept of a return value? Is it possible to have a return value in an expression?\n",
        "\n",
        "Ans-\n",
        "\n",
        "- You can use the return statement to make your functions send Python objects back to the caller code. \n",
        "-A return value is the value that a function call evaluates to. Like any value, a return value can be used as part of an expression."
      ],
      "metadata": {
        "id": "QPIgBAIiWYT8"
      }
    },
    {
      "cell_type": "markdown",
      "source": [
        "\n",
        "\n",
        "---\n",
        "\n"
      ],
      "metadata": {
        "id": "8UtyPIZ1W2bw"
      }
    },
    {
      "cell_type": "markdown",
      "source": [
        "8.\n",
        "If a function does not have a return statement, what is the return value of a call to that function?\n",
        "\n",
        "Ans- \n",
        "\n",
        "- this case, is the return value of the called function is undefined.\n",
        "\n",
        "- Thsis case is no return statement for a function, its return value is None."
      ],
      "metadata": {
        "id": "0oL7wDmrW4HI"
      }
    },
    {
      "cell_type": "markdown",
      "source": [
        "\n",
        "\n",
        "---\n",
        "\n"
      ],
      "metadata": {
        "id": "lhMBfzW5XqJ2"
      }
    },
    {
      "cell_type": "markdown",
      "source": [
        "9.How do you make a function variable refer to the global variable?\n",
        "\n",
        "Ans-\n",
        "\n",
        "For the global statement will force a variable in a function to refer to the global variable."
      ],
      "metadata": {
        "id": "gct5tPpuXr3e"
      }
    },
    {
      "cell_type": "markdown",
      "source": [
        "\n",
        "\n",
        "---\n",
        "\n"
      ],
      "metadata": {
        "id": "O_Fi2sFfYJD9"
      }
    },
    {
      "cell_type": "markdown",
      "source": [
        "10.What is the data type of None?\n",
        "\n",
        "Ans-\n",
        "\n",
        "None is a data type of its own (NoneType) and only None can be None."
      ],
      "metadata": {
        "id": "DuOlqhbNYNxO"
      }
    },
    {
      "cell_type": "markdown",
      "source": [
        "\n",
        "\n",
        "---\n",
        "\n"
      ],
      "metadata": {
        "id": "vmKyproBYYvC"
      }
    },
    {
      "cell_type": "markdown",
      "source": [
        "11.What does the sentence import areallyourpetsnamederic do?\n",
        "\n",
        "Ans-\n",
        "\n",
        "What does the import areallyourpetsnamederic statement do? That import statement imports a module named areallyourpetsnamederic.isn't a real Python module,"
      ],
      "metadata": {
        "id": "a6r7RHd7YbG7"
      }
    },
    {
      "cell_type": "markdown",
      "source": [
        "\n",
        "\n",
        "---\n",
        "\n"
      ],
      "metadata": {
        "id": "5K24gNiKZzBY"
      }
    },
    {
      "cell_type": "markdown",
      "source": [
        "12.If you had a bacon() feature in a spam module, what would you call it after importing spam?\n",
        "\n",
        "Ans-\n",
        "\n",
        "A function named bacon() inside a module named spam, how would you call it after importing spam ? This function can be called with spam. bacon()."
      ],
      "metadata": {
        "id": "zfSoTt8uZRk2"
      }
    },
    {
      "cell_type": "markdown",
      "source": [
        "\n",
        "\n",
        "---\n",
        "\n"
      ],
      "metadata": {
        "id": "Zd7XTA8WZ0fO"
      }
    },
    {
      "cell_type": "markdown",
      "source": [
        "13.What can you do to save a programme from crashing if it encounters an error?\n",
        "\n",
        "Ans-\n",
        "\n",
        "having the program display an error instead of immediately crashing will save a lot of time.\n",
        "\n",
        "Place the line of code that might cause an error in a try clause.\n"
      ],
      "metadata": {
        "id": "SnwU0hccZvp1"
      }
    },
    {
      "cell_type": "markdown",
      "source": [
        "\n",
        "\n",
        "---\n",
        "\n"
      ],
      "metadata": {
        "id": "Ebvn86oObJuv"
      }
    },
    {
      "cell_type": "markdown",
      "source": [
        "14.What is the purpose of the try clause? What is the purpose of the except clause?\n",
        "\n",
        "Ans-\n",
        "\n",
        "The try block lets you test a block of code for errors. The except block lets you handle the error. The else block lets you execute code when there is no error. The finally block lets you execute code, regardless of the result of the try- and except blocks.**bold text**"
      ],
      "metadata": {
        "id": "6yE3cFnHbLfJ"
      }
    },
    {
      "cell_type": "markdown",
      "source": [
        "\n",
        "\n",
        "---\n",
        "\n",
        "\n",
        "\n",
        "---\n",
        "\n"
      ],
      "metadata": {
        "id": "JlX0nIfgbkf0"
      }
    },
    {
      "cell_type": "code",
      "source": [],
      "metadata": {
        "id": "oGmR2wc_Vm5P"
      },
      "execution_count": null,
      "outputs": []
    }
  ]
}