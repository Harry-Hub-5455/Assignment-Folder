{
  "cells": [
    {
      "cell_type": "markdown",
      "id": "5e4896b3",
      "metadata": {
        "id": "5e4896b3"
      },
      "source": [
        "# Assignment_9"
      ]
    },
    {
      "cell_type": "markdown",
      "source": [
        "\n",
        "\n",
        "---\n",
        "\n"
      ],
      "metadata": {
        "id": "OWEFF5azzezY"
      },
      "id": "OWEFF5azzezY"
    },
    {
      "cell_type": "markdown",
      "source": [
        "1. To what does a relative path refer ?\n",
        "\n",
        "2. Where does an absolute path start with your Operating System ?\n",
        "\n",
        "3. What does the functions os.getcwd() and os.chdir() do ?\n",
        "\n",
        "4. What are . and .. folders ?\n",
        "\n",
        "5. In C:\\bacon\\eggs\\spam.txt which part is the dir name and which part is the base name ?\n",
        "\n",
        "6. What are the three mode arguments that can be passed to the open() function ?\n",
        "\n",
        "7. What happens if an existing file is opened in write mode ?\n",
        "Ans: Using this mode will overwrite any existing content in a file. If the given file does not exist, a new one will be created.\n",
        "\n",
        "8. How do you tell the difference between read() and readlines() ?\n",
        "\n",
        "9. What data structure does a shelf value resemble ?\n",
        "\n"
      ],
      "metadata": {
        "id": "cVLeKCgezjIM"
      },
      "id": "cVLeKCgezjIM"
    },
    {
      "cell_type": "markdown",
      "source": [
        "#Answer Sheet\n",
        "\n",
        "---\n",
        "\n",
        "\n",
        "\n",
        "---\n",
        "\n"
      ],
      "metadata": {
        "id": "YKkRvfHQ0Oub"
      },
      "id": "YKkRvfHQ0Oub"
    },
    {
      "cell_type": "markdown",
      "id": "7a719726",
      "metadata": {
        "id": "7a719726"
      },
      "source": [
        "#### 1.To what does a relative path refer ?\n",
        "**Ans:** \n",
        "\n",
        "The relative path is the path to some file with respect to your current working directory (PWD). \n",
        " \n",
        "**For example:** if Absolute path to a file called stuff.txt is: `C:/users/admin/docs/stuff.txt` If my PWD is `C:/users/admin/` , then the relative path to `stuff.txt` would be: `docs/stuff.txt`       \n",
        "**Note:** PWD + relative path = absolute path"
      ]
    },
    {
      "cell_type": "markdown",
      "source": [
        "\n",
        "\n",
        "---\n",
        "\n"
      ],
      "metadata": {
        "id": "ppnKpnKl0ZoF"
      },
      "id": "ppnKpnKl0ZoF"
    },
    {
      "cell_type": "markdown",
      "id": "1e5a7601",
      "metadata": {
        "id": "1e5a7601"
      },
      "source": [
        "#### 2.Where does an absolute path start with your Operating System ?\n",
        "**Ans:** \n",
        "\n",
        "In Linux based systems the absolute path starts with **`/`**. Where as in Windows based systems absolute path starts with **`C:`**"
      ]
    },
    {
      "cell_type": "markdown",
      "source": [
        "\n",
        "\n",
        "---\n",
        "\n"
      ],
      "metadata": {
        "id": "oE0UMO-G0bx5"
      },
      "id": "oE0UMO-G0bx5"
    },
    {
      "cell_type": "markdown",
      "id": "20cf4bf7",
      "metadata": {
        "id": "20cf4bf7"
      },
      "source": [
        "#### 3.What does the functions `os.getcwd()` and `os.chdir()` do ?\n",
        "**Ans:** \n",
        "\n",
        "`os.getcwd()` method tells us the location of current working directory (CWD). Whereas `os.chdir()` method in Python used to change the current working directory to specified path. These functions are similar to linux commands `pwd` and `cd`"
      ]
    },
    {
      "cell_type": "markdown",
      "source": [
        "\n",
        "\n",
        "---\n",
        "\n"
      ],
      "metadata": {
        "id": "ZONvGXpxFBMU"
      },
      "id": "ZONvGXpxFBMU"
    },
    {
      "cell_type": "markdown",
      "id": "ef89a436",
      "metadata": {
        "id": "ef89a436"
      },
      "source": [
        "#### 4.What are `.` and `..`  folders ?\n",
        "\n",
        "**Ans:** \n",
        "\n",
        "`.` Represents the Current Directory Whereas `..` Represents the Parent Directory of the Current Directory  \n",
        "**For Example:** \n",
        "if the below path is my absolute path:  \n",
        "`C:\\Users\\ANONYMOUS-HARRY\\Documents\\DATA SCIENTICS`  \n",
        "Then `.` represents the path `C:\\Users\\ANONYMOUS-HARRY\\Documents\\DATA SCIENTICS`  \n",
        "Where as `..` represents the path `C:\\Users\\ANONYMOUS-HARRY\\Documents`"
      ]
    },
    {
      "cell_type": "markdown",
      "source": [
        "\n",
        "\n",
        "---\n",
        "\n"
      ],
      "metadata": {
        "id": "2--x1Pa3FgL_"
      },
      "id": "2--x1Pa3FgL_"
    },
    {
      "cell_type": "markdown",
      "id": "dc9559e2",
      "metadata": {
        "id": "dc9559e2"
      },
      "source": [
        "#### 5.In `C:\\bacon\\eggs\\spam.txt` which part is the dir name and which part is the base name ?\n",
        "**Ans:** For `C:\\bacon\\eggs\\spam.txt`  \n",
        "The dir name is `C:\\\\bacon\\\\eggs`  \n",
        "The Base name is `spam.txt`"
      ]
    },
    {
      "cell_type": "code",
      "execution_count": 24,
      "id": "3e63e793",
      "metadata": {
        "colab": {
          "base_uri": "https://localhost:8080/"
        },
        "id": "3e63e793",
        "outputId": "a690e2b9-b79a-4fea-a260-1a411643d788"
      },
      "outputs": [
        {
          "output_type": "stream",
          "name": "stdout",
          "text": [
            "\n",
            "C:\\bacon\\eggs\\spam.txt\n"
          ]
        }
      ],
      "source": [
        "import os\n",
        "path = r'C:\\bacon\\eggs\\spam.txt'\n",
        "print(os.path.dirname(path))\n",
        "print(os.path.basename(path))"
      ]
    },
    {
      "cell_type": "markdown",
      "source": [
        "\n",
        "\n",
        "---\n",
        "\n"
      ],
      "metadata": {
        "id": "mcxLmeFr-Bpv"
      },
      "id": "mcxLmeFr-Bpv"
    },
    {
      "cell_type": "markdown",
      "id": "edb97d1b",
      "metadata": {
        "id": "edb97d1b"
      },
      "source": [
        "#### 6.What are the three `mode` arguments that can be passed to the `open()` function ?\n",
        "**Ans:** A file can be Accessed in python using `open()` function. open function takes two arguments filename and mode of operation (optional). if mode is not provided the default mode of opening is read mode   \n",
        "So, the syntax being: **`open(filename, mode)`**\n",
        "* **`‘r’`** – Read Mode: This is the default mode for open(). The file is opened and a pointer is positioned at the beginning of the file’s content.\n",
        "* **`‘w’`** – Write Mode: Using this mode will overwrite any existing content in a file. If the given file does not exist, a new one will be created. \n",
        "* **`‘r+’`** – Read/Write Mode: Use this mode if you need to simultaneously read and write to a file.\n",
        "* **`‘a’`** – Append Mode: With this mode the user can append the data without overwriting any already existing data in the file. \n",
        "* **`‘a+’`** – Append and Read Mode: In this mode you can read and append the data without overwriting the original file.\n",
        "* **`‘x’`** – Exclusive Creating Mode: This mode is for the sole purpose of creating new files. Use this mode if you know the file to be written doesn’t exist beforehand."
      ]
    },
    {
      "cell_type": "markdown",
      "source": [
        "\n",
        "\n",
        "---\n",
        "\n"
      ],
      "metadata": {
        "id": "c92AT39V-D9_"
      },
      "id": "c92AT39V-D9_"
    },
    {
      "cell_type": "markdown",
      "id": "a6250b7d",
      "metadata": {
        "id": "a6250b7d"
      },
      "source": [
        "#### 7.What happens if an existing file is opened in write mode ?\n",
        "**Ans:** Using this mode will overwrite any existing content in a file. If the given file does not exist, a new one will be created."
      ]
    },
    {
      "cell_type": "markdown",
      "source": [
        "\n",
        "\n",
        "---\n",
        "\n"
      ],
      "metadata": {
        "id": "-Fc73OpbFuVg"
      },
      "id": "-Fc73OpbFuVg"
    },
    {
      "cell_type": "markdown",
      "id": "e76da392",
      "metadata": {
        "id": "e76da392"
      },
      "source": [
        "#### 8.How do you tell the difference between `read()` and `readlines()` ?\n",
        "**Ans:** \n",
        "\n",
        "The main difference is that **`read()`** will read the whole file at once and then print out the first characters that take up as many bytes as you specify in the parenthesis\n",
        "* Whereas the **`readline()`** that will read and print out only the first characters that take up as many bytes as you specify in the parenthesis. You may want to use readline() when you're reading files that are too big for your RAM.\n",
        "* The **`read()`** would treat each character in the file separately, meaning that the iteration would happen for every character.\n",
        "* The **`readline()`** function, on the other hand, only reads a single line of the file. This means that if the first line of the file were three lines long, the readline() function would only parse (or iterate/operate) on the first line of the file."
      ]
    },
    {
      "cell_type": "markdown",
      "source": [
        "\n",
        "\n",
        "---\n",
        "\n"
      ],
      "metadata": {
        "id": "9dzu0MGjFr_a"
      },
      "id": "9dzu0MGjFr_a"
    },
    {
      "cell_type": "markdown",
      "id": "9e161992",
      "metadata": {
        "id": "9e161992"
      },
      "source": [
        "#### 9.What data structure does a shelf value resemble ?\n",
        "\n",
        "**Ans:** \n",
        "\n",
        "It contains key and values it represents dictionary."
      ]
    },
    {
      "cell_type": "markdown",
      "source": [
        "\n",
        "\n",
        "---\n",
        "\n",
        "\n",
        "\n",
        "---\n",
        "\n"
      ],
      "metadata": {
        "id": "pLj_boovFqI7"
      },
      "id": "pLj_boovFqI7"
    }
  ],
  "metadata": {
    "kernelspec": {
      "display_name": "Python 3",
      "language": "python",
      "name": "python3"
    },
    "language_info": {
      "codemirror_mode": {
        "name": "ipython",
        "version": 3
      },
      "file_extension": ".py",
      "mimetype": "text/x-python",
      "name": "python",
      "nbconvert_exporter": "python",
      "pygments_lexer": "ipython3",
      "version": "3.8.8"
    },
    "colab": {
      "provenance": []
    }
  },
  "nbformat": 4,
  "nbformat_minor": 5
}