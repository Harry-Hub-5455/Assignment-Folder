{
  "cells": [
    {
      "cell_type": "markdown",
      "metadata": {
        "id": "YZ1ha5UcWh6y"
      },
      "source": [
        "# Assignment_1\n",
        "\n",
        "\n"
      ]
    },
    {
      "cell_type": "markdown",
      "source": [
        "\n",
        "\n",
        "---\n",
        "\n"
      ],
      "metadata": {
        "id": "QB7aohOQW5we"
      }
    },
    {
      "cell_type": "markdown",
      "source": [
        "1.In the below elements which of them are values or an expression? eg:- values can be\n",
        "integer or string and expressions will be mathematical operators.\n",
        "*\n",
        "'hello'\n",
        "\n",
        "-87.8\n",
        "\n",
        "-\n",
        "\n",
        "/\n",
        "\n",
        "+\n",
        "\n",
        "6\n",
        "\n",
        "2.What is the difference between string and variable?\n",
        "\n",
        "3.Describe three different data types.\n",
        "\n",
        "4.What is an expression made up of? What do all expressions do?\n",
        "\n",
        "5.This assignment statements, like spam = 10. What is the difference between an\n",
        "expression and a statement?\n",
        "\n",
        "6.After running the following code, what does the variable bacon contain?\n",
        "\n",
        "- bacon = 22\n",
        "- bacon + 1\n",
        "\n",
        "7. What should the values of the following two terms be?\n",
        "\n",
        "'spam' + 'spamspam'\n",
        "\n",
        "'spam' * 3\n",
        "\n",
        "8. Why is eggs a valid variable name while 100 is invalid?\n",
        "\n",
        "9. What three functions can be used to get the integer, floating-point number, or string version of a value?\n",
        "\n",
        "10. Why does this expression cause an error? How can you fix it?\n",
        "\n",
        "- 'I have eaten' + 99 + 'burritos'"
      ],
      "metadata": {
        "id": "S2mrJRY2XmRo"
      }
    },
    {
      "cell_type": "markdown",
      "source": [
        "# Answer Sheet\n",
        "\n",
        "---\n",
        "\n",
        "\n",
        "\n",
        "---\n",
        "\n"
      ],
      "metadata": {
        "id": "Ojubv58MYjsk"
      }
    },
    {
      "cell_type": "markdown",
      "metadata": {
        "id": "aJmFB-NJWh7C"
      },
      "source": [
        "1.In the below elements which of them are values or an expression? **eg:-** values can be integer or string and expressions will be mathematical operators.  \n",
        "\n",
        "`*`,`'hello'`, \n",
        "\n",
        "`-87.8`\n",
        "\n",
        ",`-`,\n",
        "\n",
        "`/`,`\n",
        "\n",
        "`+`,\n",
        "\n",
        "`6`\n",
        "\n",
        "\n",
        "Ans: \n",
        "\n",
        "There are a total of 4 Operators and 3 Expressions, They are:  \n",
        "**Operators:** `*`,`-`,`/`,`+`  \n",
        "**Expressions:** `'hello'`, `87.8`, `6`"
      ]
    },
    {
      "cell_type": "markdown",
      "source": [
        "\n",
        "\n",
        "---\n",
        "\n"
      ],
      "metadata": {
        "id": "_INaL57fZAg2"
      }
    },
    {
      "cell_type": "markdown",
      "metadata": {
        "id": "SB0L8mw3Wh7P"
      },
      "source": [
        "2.What is the difference between string and variable?\n",
        "\n",
        "Ans: \n",
        "\n",
        "A Variable is used to store of information, and a String is a type of information you would store in a Variable. A String is a group of characters or a single character usually enclosed in (Double quotes `\" \"`) or (single quotes `' '`)"
      ]
    },
    {
      "cell_type": "markdown",
      "source": [
        "\n",
        "\n",
        "---\n",
        "\n"
      ],
      "metadata": {
        "id": "XD41rPEnZVRe"
      }
    },
    {
      "cell_type": "markdown",
      "metadata": {
        "id": "OixTSgu2Wh7S"
      },
      "source": [
        "3.Describe three different Data Types ?\n",
        "\n",
        "Ans:\n",
        "\n",
        " Three fundamental Data types in python are `int`, `float`, `complex`.\n",
        " \n",
        "1. **int data type**: We can use int data type to represent whole numbers (integral values)\n",
        "\n",
        "2. **float data type**: We can use float data type to represent floating point values (decimal values)\n",
        "\n",
        "3. **complex data type**: Complex number is represented by complex class. It is specified as (real part) + (imaginary part)j. "
      ]
    },
    {
      "cell_type": "code",
      "execution_count": 1,
      "metadata": {
        "colab": {
          "base_uri": "https://localhost:8080/"
        },
        "id": "aIqF5n54Wh7U",
        "outputId": "e3571efc-4a3b-48a8-98fd-e5d946b49dff"
      },
      "outputs": [
        {
          "output_type": "stream",
          "name": "stdout",
          "text": [
            "4567 <class 'int'>\n",
            "1200.0 <class 'float'>\n",
            "(10+1.5j) <class 'complex'>\n"
          ]
        }
      ],
      "source": [
        "# Example for int data type\n",
        "int_num=4567\n",
        "print(int_num, type(int_num))\n",
        "\n",
        "# Example for float data type\n",
        "flo_num=1.2e3\n",
        "print(flo_num, type(flo_num))\n",
        "\n",
        "# Example for Complex data type\n",
        "com_num=10+1.5j\n",
        "print(com_num, type(com_num))"
      ]
    },
    {
      "cell_type": "markdown",
      "source": [
        "\n",
        "\n",
        "---\n",
        "\n"
      ],
      "metadata": {
        "id": "RFZef6qyZ54_"
      }
    },
    {
      "cell_type": "markdown",
      "metadata": {
        "id": "GS0G9DDpWh7c"
      },
      "source": [
        "4.What is an expression made up of? What do all expressions do?\n",
        "\n",
        "Ans: \n",
        "\n",
        "An expression is a combination of values, variables, operators, and calls to functions.\n",
        "\n",
        "    - Expressions need to be evaluated. If we ask Python to print an expression,  the interpreter \n",
        "    evaluates the expression and displays the result."
      ]
    },
    {
      "cell_type": "code",
      "execution_count": 2,
      "metadata": {
        "colab": {
          "base_uri": "https://localhost:8080/"
        },
        "id": "TJL2xBcyWh7e",
        "outputId": "51aec36e-8b93-4096-f54e-5623220c909c"
      },
      "outputs": [
        {
          "output_type": "execute_result",
          "data": {
            "text/plain": [
              "0"
            ]
          },
          "metadata": {},
          "execution_count": 2
        }
      ],
      "source": [
        "# Example:\n",
        "4*5+20-40 # The Expression, The Python Interpreter Evaluates it to 0"
      ]
    },
    {
      "cell_type": "markdown",
      "source": [
        "\n",
        "\n",
        "---\n",
        "\n"
      ],
      "metadata": {
        "id": "mVUghQnXaXsV"
      }
    },
    {
      "cell_type": "markdown",
      "metadata": {
        "id": "hp9alcD9Wh7m"
      },
      "source": [
        "5.This assignment statements, like spam = 10. What is the difference between an expression and a statement?\n",
        "\n",
        "Ans:\n",
        "\n",
        "An expression is a combination of values, variables, and operators.When we type an expression at the prompt, \n",
        "the interpreter evaluates it, which means that it finds the value of the expression.\n",
        "\n",
        "`eg: 4*5+20-40 is an example of a statement`\n",
        "\n",
        "A statement is a unit of code that has an effect, like creating a variable or displaying a value.When we type a statement,\n",
        "the interpreter executes it, which means that it does whatever the statement says. In general, statements don’t have values.\n",
        "\n",
        "`eg: variable declaration and assignment are statements because they do not return a value`"
      ]
    },
    {
      "cell_type": "code",
      "execution_count": 3,
      "metadata": {
        "colab": {
          "base_uri": "https://localhost:8080/"
        },
        "id": "6YHqW2mHWh7q",
        "outputId": "0b5eede8-74f7-4c97-98a5-2ee974a3eca6"
      },
      "outputs": [
        {
          "output_type": "stream",
          "name": "stdout",
          "text": [
            "Hello World !\n"
          ]
        }
      ],
      "source": [
        "# Example:\n",
        "4*5+20-40 # Expression\n",
        "courseName = 'INeuron FullStack DataScience' # Statement\n",
        "print(\"Hello World !\") # Expression Statement"
      ]
    },
    {
      "cell_type": "markdown",
      "source": [
        "\n",
        "\n",
        "---\n",
        "\n"
      ],
      "metadata": {
        "id": "040pdN_LaxfS"
      }
    },
    {
      "cell_type": "markdown",
      "metadata": {
        "id": "UW6UjsuZWh7u"
      },
      "source": [
        "6.After running the following code, what does the variable bacon contain?\n",
        "\n",
        "`bacon = 22`  \n",
        "`bacon + 1`\n",
        "\n",
        "Ans:\n",
        "\n",
        "The variable `bacon` is set to `22` .The expression `bacon + 1` does not reassign the value in\n",
        "bacon (that would the case if the expression is like `bacon = bacon + 1` instead of `bacon + 1`)"
      ]
    },
    {
      "cell_type": "code",
      "execution_count": 4,
      "metadata": {
        "colab": {
          "base_uri": "https://localhost:8080/"
        },
        "id": "HFRH5ZcnWh7w",
        "outputId": "674e5714-5cbb-406a-9643-c51bcb1ad1bc"
      },
      "outputs": [
        {
          "output_type": "stream",
          "name": "stdout",
          "text": [
            "22\n"
          ]
        }
      ],
      "source": [
        "# Example Case#-1\n",
        "bacon = 22\n",
        "bacon+1\n",
        "print(bacon)"
      ]
    },
    {
      "cell_type": "code",
      "execution_count": 6,
      "metadata": {
        "colab": {
          "base_uri": "https://localhost:8080/"
        },
        "id": "7Sr1IJluWh7y",
        "outputId": "6cb39cf2-a091-4f9d-8b80-d1ad473259d4"
      },
      "outputs": [
        {
          "output_type": "stream",
          "name": "stdout",
          "text": [
            "23\n"
          ]
        }
      ],
      "source": [
        "#Example Case-2\n",
        "bacon = 22\n",
        "bacon = bacon + 1 \n",
        "print(bacon)"
      ]
    },
    {
      "cell_type": "markdown",
      "source": [
        "\n",
        "\n",
        "---\n",
        "\n"
      ],
      "metadata": {
        "id": "BAHuJfl9bNSy"
      }
    },
    {
      "cell_type": "markdown",
      "metadata": {
        "id": "dxwpfH9wWh7z"
      },
      "source": [
        "7.What should the values of the following two terms be?  \n",
        "`'spam'+'spamspam'`  \n",
        "`'spam'*3`\n",
        "\n",
        "Ans:\n",
        "\n",
        "Both expressions evaluate to the string **`'spamspamspam'`**\n",
        "Where as the first expression follows `String Concatentation` and the second expression follows `String Multiplication`"
      ]
    },
    {
      "cell_type": "code",
      "execution_count": 7,
      "metadata": {
        "colab": {
          "base_uri": "https://localhost:8080/"
        },
        "id": "Gwy3GjX4Wh71",
        "outputId": "7e03203b-c5c7-4354-9233-89a580836cf4"
      },
      "outputs": [
        {
          "output_type": "stream",
          "name": "stdout",
          "text": [
            "spamspamspam\n",
            "spamspamspam\n"
          ]
        }
      ],
      "source": [
        "# Example:\n",
        "print('spam'+'spamspam') # string concatenation\n",
        "\n",
        "print('spam'*3) # string multiplication"
      ]
    },
    {
      "cell_type": "markdown",
      "source": [
        "\n",
        "\n",
        "---\n",
        "\n"
      ],
      "metadata": {
        "id": "ddhz30E_be4M"
      }
    },
    {
      "cell_type": "markdown",
      "metadata": {
        "id": "KaGbkj8bWh72"
      },
      "source": [
        "8.Why is eggs a valid variable name while 100 is invalid?\n",
        "\n",
        "Ans:\n",
        "\n",
        "As per python,Variable names cannot begin with a number. The python rules for naming a variable are :- \n",
        "1. Variable name must start with a letter or the underscore character.\n",
        "2. Variable name cannot start with a number.\n",
        "3. Variable name can only contain alpha-numeric characters and underscores\n",
        "` (A-z, 0-9, & _ ).`\n",
        "4. Variable names are case-sensitive (name, `HARRY` and `harry` are three different variables).\n",
        "5. The reserved words(keywords) cannot be used naming the variable."
      ]
    },
    {
      "cell_type": "code",
      "execution_count": 8,
      "metadata": {
        "colab": {
          "base_uri": "https://localhost:8080/",
          "height": 130
        },
        "id": "M23gIsrBWh73",
        "outputId": "57d9bed4-0d46-4044-e662-ee536217df34"
      },
      "outputs": [
        {
          "output_type": "error",
          "ename": "SyntaxError",
          "evalue": "ignored",
          "traceback": [
            "\u001b[0;36m  File \u001b[0;32m\"<ipython-input-8-53d1f51f969d>\"\u001b[0;36m, line \u001b[0;32m2\u001b[0m\n\u001b[0;31m    100 ='hello' # Invalid Variable Initilization\u001b[0m\n\u001b[0m    ^\u001b[0m\n\u001b[0;31mSyntaxError\u001b[0m\u001b[0;31m:\u001b[0m cannot assign to literal\n"
          ]
        }
      ],
      "source": [
        "# Example:\n",
        "egg='Harry' # Valid variable Initilization\n",
        "\n",
        "100 ='hello' # Invalid Variable Initilization\n",
        "\n",
        "print(egg) # prints the value of egg ie Harry\n",
        "\n",
        "print(100) # Syntax Error as 100 is not a valid"
      ]
    },
    {
      "cell_type": "markdown",
      "source": [
        "\n",
        "\n",
        "---\n",
        "\n"
      ],
      "metadata": {
        "id": "YVi3V8ZucwMV"
      }
    },
    {
      "cell_type": "markdown",
      "metadata": {
        "id": "PRAFRMAdWh77"
      },
      "source": [
        "9.What three functions can be used to get the integer,floating-point \n",
        "number,or string version of a value?\n",
        "\n",
        "Ans:\n",
        "\n",
        "The `int()`,`float()`,and `str()` functions will evaluate to the integer,floating-point number,string version of the value passed to them."
      ]
    },
    {
      "cell_type": "code",
      "execution_count": 12,
      "metadata": {
        "colab": {
          "base_uri": "https://localhost:8080/"
        },
        "id": "ySwtw-KsWh78",
        "outputId": "fd1ca113-c583-41de-cf8d-c74d9c1b0ee6"
      },
      "outputs": [
        {
          "output_type": "stream",
          "name": "stdout",
          "text": [
            "int(12.0) ->  12\n",
            "float(12) ->  12.0\n",
            "str(12) ->  12\n"
          ]
        }
      ],
      "source": [
        "# Examples:\n",
        "print('int(12.0) -> ',int(12.0)) # int() converts input to int\n",
        "\n",
        "print('float(12) -> ',float(12)) # float()  converts  input to float\n",
        "\n",
        "print('str(12) -> ',str(12)) # str() converts  input to string"
      ]
    },
    {
      "cell_type": "markdown",
      "source": [
        "\n",
        "\n",
        "---\n",
        "\n"
      ],
      "metadata": {
        "id": "iGBTUSLqdoMt"
      }
    },
    {
      "cell_type": "markdown",
      "metadata": {
        "id": "dbVzUySlWh7_"
      },
      "source": [
        "10.Why does this expression cause an error? how can you fix it?  \n",
        "`'I have eaten ' + 99 + 'burritos.'`\n",
        "\n",
        "Ans: \n",
        "\n",
        "This cause of error is 99.because 99 is not a string. 99 must be typecasted to a string to fix this error. the correct way is:  \n",
        "\n",
        "- Input: `'I have eaten ' + str(99) + 'burritos.'`  \n",
        "- Output: `'I have eaten 99 burritos.'`"
      ]
    },
    {
      "cell_type": "code",
      "execution_count": 13,
      "metadata": {
        "colab": {
          "base_uri": "https://localhost:8080/"
        },
        "id": "IflfMZDpWh8C",
        "outputId": "d1269abe-2f9d-4ccc-8a72-b16da5543b08"
      },
      "outputs": [
        {
          "output_type": "stream",
          "name": "stdout",
          "text": [
            "I have eaten 99 burritos\n"
          ]
        }
      ],
      "source": [
        "# Example:\n",
        "print('I have eaten '+str(99)+' burritos')"
      ]
    },
    {
      "cell_type": "markdown",
      "source": [
        "\n",
        "\n",
        "---\n",
        "\n",
        "\n",
        "\n",
        "---\n",
        "\n"
      ],
      "metadata": {
        "id": "yw6oroMleA19"
      }
    }
  ],
  "metadata": {
    "kernelspec": {
      "display_name": "Python 3",
      "language": "python",
      "name": "python3"
    },
    "language_info": {
      "codemirror_mode": {
        "name": "ipython",
        "version": 3
      },
      "file_extension": ".py",
      "mimetype": "text/x-python",
      "name": "python",
      "nbconvert_exporter": "python",
      "pygments_lexer": "ipython3",
      "version": "3.8.8"
    },
    "colab": {
      "provenance": []
    }
  },
  "nbformat": 4,
  "nbformat_minor": 0
}