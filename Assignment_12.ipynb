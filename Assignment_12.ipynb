{
  "cells": [
    {
      "cell_type": "markdown",
      "id": "2f149cae",
      "metadata": {
        "id": "2f149cae"
      },
      "source": [
        "# Assignment_12\n",
        "\n",
        "---\n",
        "\n"
      ]
    },
    {
      "cell_type": "markdown",
      "source": [
        "1. In what modes should the PdfFileReader() and PdfFileWriter() File objects will be opened?\n",
        "\n",
        "2. From a PdfFileReader object, how do you get a Page object for page 5?\n",
        "\n",
        "3. What PdfFileReader variable stores the number of pages in the PDF document?\n",
        "\n",
        "4. If a PdfFileReader object’s PDF is encrypted with the password swordfish, what must you do before you can obtain Page objects from it?\n",
        "\n",
        "5. What methods do you use to rotate a page?\n",
        "\n",
        "6. What is the difference between a Run object and a Paragraph object?\n",
        "\n",
        "7. How do you obtain a list of Paragraph objects for a Document object that’s stored in a variable named doc?\n",
        "\n",
        "8. What type of object has bold, underline, italic, strike, and outline variables?\n",
        "\n",
        "9. What is the difference between False, True, and None for the bold variable?\n",
        "\n",
        "10. How do you create a Document object for a new Word document?\n",
        "\n",
        "11. How do you add a paragraph with the text 'Hello, there!' to a Document object stored in a variable named doc?\n",
        "\n",
        "12. What integers represent the levels of headings available in Word documents?"
      ],
      "metadata": {
        "id": "P-EtRh3QzEWT"
      },
      "id": "P-EtRh3QzEWT"
    },
    {
      "cell_type": "markdown",
      "source": [
        "#Answeer Sheet\n",
        "\n",
        "\n",
        "\n",
        "---\n",
        "\n",
        "\n",
        "\n",
        "---\n",
        "\n"
      ],
      "metadata": {
        "id": "8fj5uW4mOX4d"
      },
      "id": "8fj5uW4mOX4d"
    },
    {
      "cell_type": "markdown",
      "id": "354c063f",
      "metadata": {
        "id": "354c063f"
      },
      "source": [
        "#### 1. In what modes should the PdfFileReader() and PdfFileWriter() File objects will be opened?\n",
        "**Ans:** \n",
        "\n",
        "For **`PdfFileReader()`** file objects should be opened in **`rb`** -> read binary mode, Whereas for **`PdfFileWriter()`** file objects should be opened in **`wb`** -> write binary mode."
      ]
    },
    {
      "cell_type": "markdown",
      "source": [
        "\n",
        "\n",
        "---\n",
        "\n"
      ],
      "metadata": {
        "id": "Xxd9SF5Mybdn"
      },
      "id": "Xxd9SF5Mybdn"
    },
    {
      "cell_type": "markdown",
      "id": "c1bd13eb",
      "metadata": {
        "id": "c1bd13eb"
      },
      "source": [
        "#### 2. From a PdfFileReader object, how do you get a Page object for page 5?\n",
        "**Ans:** \n",
        "\n",
        "**`PdfFileReader`** class provides a method called **`getPage(page_no)`** to get a page object.\n"
      ]
    },
    {
      "cell_type": "code",
      "source": [
        "# Example\n",
        "\n",
        "from PyPDF2 import PdfFileReader\n",
        "pdf_reader = PdfFileReader('file_path', 'rb')\n",
        "for page in pdf_reader.getNumPages():\n",
        "    pdf_reader.getPage(page)"
      ],
      "metadata": {
        "id": "MdRyo3fWKPTE"
      },
      "id": "MdRyo3fWKPTE",
      "execution_count": null,
      "outputs": []
    },
    {
      "cell_type": "markdown",
      "source": [
        "\n",
        "\n",
        "---\n",
        "\n"
      ],
      "metadata": {
        "id": "Jw0EYf58KZp0"
      },
      "id": "Jw0EYf58KZp0"
    },
    {
      "cell_type": "markdown",
      "id": "ddc7d5e9",
      "metadata": {
        "id": "ddc7d5e9"
      },
      "source": [
        "#### 3. What PdfFileReader variable stores the number of pages in the PDF document?\n",
        "**Ans:** \n",
        "\n",
        "**`getNumPages()`** method of **`PdfFileReader`** class stores the no pages in a PDF document"
      ]
    },
    {
      "cell_type": "code",
      "execution_count": null,
      "id": "eaf52330",
      "metadata": {
        "id": "eaf52330"
      },
      "outputs": [],
      "source": [
        "#Example\n",
        "\n",
        "from PyPDF2 import PdfFileReader\n",
        "pdf_reader = PdfFileReader('file_path', 'rb')\n",
        "print(pdf_reader.getNumPages()) # Prints the no of pages in a input document"
      ]
    },
    {
      "cell_type": "markdown",
      "source": [
        "\n",
        "\n",
        "---\n",
        "\n"
      ],
      "metadata": {
        "id": "aH3iYotTz-Kb"
      },
      "id": "aH3iYotTz-Kb"
    },
    {
      "cell_type": "markdown",
      "id": "b750ecda",
      "metadata": {
        "id": "b750ecda"
      },
      "source": [
        "#### 4. If a PdfFileReader object’s PDF is encrypted with the password swordfish, what must you do before you can obtain Page objects from it?\n",
        "**Ans:** \n",
        "\n",
        "If a **`PdfFileReader`** object’s PDF is encrypted with the password **`swordfish`** and you're not aware of it. first read the Pdf using the PdfFileReader Class. PdfFileReader class provides a attribute called **`isEncrypted`** to check whether a pdf is encrypted or not. the method returns true if a pdf is encrypted and vice versa.  \n",
        "if pdf is encrypted use the **`decrypt()`** method provided by PdfFileReader class first then try to read the contents/pages of the pdf, else PyPDF2 will raise the following error **`PyPDF2.utils.PdfReadError: file has not been decrypted`**"
      ]
    },
    {
      "cell_type": "code",
      "source": [
        "#Example \n",
        "\n",
        "from PyPDF2 import PdfFileReader\n",
        "pdf_reader = PdfFileReader('file_path', 'rb')\n",
        "if pdf_reader.isEncrypted: # to check whether the pdf is encrypted or not\n",
        "    pdf_reader.decrypt(\"swordfish\")\n",
        "for page in pdf_reader.pages:\n",
        "    print(page.extractText()) # to print the text data of a page from pdf"
      ],
      "metadata": {
        "id": "gRRAJcm0LIsS"
      },
      "id": "gRRAJcm0LIsS",
      "execution_count": null,
      "outputs": []
    },
    {
      "cell_type": "markdown",
      "source": [
        "\n",
        "\n",
        "---\n",
        "\n"
      ],
      "metadata": {
        "id": "mK-O7xFH0NrW"
      },
      "id": "mK-O7xFH0NrW"
    },
    {
      "cell_type": "markdown",
      "id": "eb2989bf",
      "metadata": {
        "id": "eb2989bf"
      },
      "source": [
        "#### 5. What methods do you use to rotate a page?\n",
        "**Ans:** \n",
        "\n",
        "PyPDF2 Package provides 2 methods to rotate a page:\n",
        "1. **`rotateClockWise()`** -> For Clockwise rotation\n",
        "2. **`rotateCounterClockWise()`** -> For Counter Clockwise rotation  \n",
        "\n",
        "The PyPDF2 package only allows you to rotate a page in increments of 90 degrees. You will receive an AssertionError otherwise."
      ]
    },
    {
      "cell_type": "markdown",
      "source": [
        "\n",
        "\n",
        "---\n",
        "\n"
      ],
      "metadata": {
        "id": "c5duaOh00SSj"
      },
      "id": "c5duaOh00SSj"
    },
    {
      "cell_type": "markdown",
      "id": "2b46fab1",
      "metadata": {
        "id": "2b46fab1"
      },
      "source": [
        "#### 6. What is the difference between a Run object and a Paragraph object?\n",
        "**Ans:** \n",
        "\n",
        "The structure of a document is represented by three different data types in **`python-Docx`**. At the highest level, a `Document` object represents the entire document. The Document object contains a list of **`Paragraph`** objects for the paragraphs in the document. (A new paragraph begins whenever the user presses `ENTER` or `RETURN` while typing in a Word document.) Each of these Paragraph objects contains a list of one or more **`Run`** objects.\n",
        "\n",
        "The text in a Word document is more than just a string. It has font, size, color, and other styling information associated with it. A style in Word is a collection of these attributes. A Run object is a contiguous run of text with the same style. A new Run object is needed whenever the text style changes."
      ]
    },
    {
      "cell_type": "markdown",
      "source": [
        "\n",
        "\n",
        "---\n",
        "\n"
      ],
      "metadata": {
        "id": "cpHgcXNz0VN6"
      },
      "id": "cpHgcXNz0VN6"
    },
    {
      "cell_type": "markdown",
      "id": "4880f471",
      "metadata": {
        "id": "4880f471"
      },
      "source": [
        "#### 7. How do you obtain a list of Paragraph objects for a Document object that’s stored in a variable named doc?"
      ]
    },
    {
      "cell_type": "code",
      "execution_count": null,
      "id": "51f2fe7f",
      "metadata": {
        "id": "51f2fe7f"
      },
      "outputs": [],
      "source": [
        "# Example\n",
        "\n",
        "from docx import Document\n",
        "doc = Document(\"text_file.docx\") # Path of the Docx file\n",
        "print(doc.paragraphs) # Prints the list of Paragraph objects for a Document\n",
        "for paragraph in doc.paragraphs:\n",
        "    print(paragraph.text) # Prints the text in the paragraph"
      ]
    },
    {
      "cell_type": "markdown",
      "source": [
        "\n",
        "\n",
        "---\n",
        "\n"
      ],
      "metadata": {
        "id": "uDOsZ-O7Kyk4"
      },
      "id": "uDOsZ-O7Kyk4"
    },
    {
      "cell_type": "markdown",
      "id": "4e696c59",
      "metadata": {
        "id": "4e696c59"
      },
      "source": [
        "#### 8. What type of object has bold, underline, italic, strike, and outline variables?\n",
        "**Ans:** **`Run`**  object has bold, underline, italic, strike, and outline variables. The text in a Word document is more than just a string. It has font, size, color, and other styling information associated with it.\n",
        "\n",
        "A style in Word is a collection of these attributes. A Run object is a contiguous run of text with the same style. A new Run object is needed whenever the text style changes."
      ]
    },
    {
      "cell_type": "markdown",
      "source": [
        "\n",
        "\n",
        "---\n",
        "\n"
      ],
      "metadata": {
        "id": "2jXTLgqmNDD_"
      },
      "id": "2jXTLgqmNDD_"
    },
    {
      "cell_type": "markdown",
      "id": "0ff87713",
      "metadata": {
        "id": "0ff87713"
      },
      "source": [
        "#### 9. What is the difference between False, True, and None for the bold variable?"
      ]
    },
    {
      "cell_type": "code",
      "execution_count": 59,
      "id": "2e8087e0",
      "metadata": {
        "id": "2e8087e0"
      },
      "outputs": [],
      "source": [
        "bold = True  # Style Set to Bold\n",
        "bold = False # Style Not Set to Bold\n",
        "bold = None # Style is Not Applicable"
      ]
    },
    {
      "cell_type": "markdown",
      "source": [
        "\n",
        "\n",
        "---\n",
        "\n"
      ],
      "metadata": {
        "id": "D-2Sq1DONB5C"
      },
      "id": "D-2Sq1DONB5C"
    },
    {
      "cell_type": "markdown",
      "id": "7a280546",
      "metadata": {
        "id": "7a280546"
      },
      "source": [
        "#### 10. How do you create a Document object for a new Word document?\n",
        "\n",
        "**Ans:**\n",
        "\n",
        "By Calling the docx.Document() function."
      ]
    },
    {
      "cell_type": "code",
      "source": [
        "# Example\n",
        "from docx import Document\n",
        "document = Document()\n",
        "document.add_paragraph(\"Python Is Very Useful and Easy\")\n",
        "document.save('textdocument.docx')"
      ],
      "metadata": {
        "id": "0jb0YfC_Mkbg"
      },
      "id": "0jb0YfC_Mkbg",
      "execution_count": null,
      "outputs": []
    },
    {
      "cell_type": "markdown",
      "source": [
        "\n",
        "\n",
        "---\n",
        "\n"
      ],
      "metadata": {
        "id": "bKdJQMbjNOPX"
      },
      "id": "bKdJQMbjNOPX"
    },
    {
      "cell_type": "markdown",
      "id": "0b9f5441",
      "metadata": {
        "id": "0b9f5441"
      },
      "source": [
        "#### 11. How do you add a paragraph with the text 'Hello, there!' to a Document object stored in a variable named doc?"
      ]
    },
    {
      "cell_type": "code",
      "source": [
        "# Example\n",
        "\n",
        "from docx import Document\n",
        "\n",
        "doc = Document()\n",
        "doc.add_paragraph('Hello, there!')\n",
        "doc.save('hello.docx')"
      ],
      "metadata": {
        "id": "DN2JdKsiOGMo"
      },
      "id": "DN2JdKsiOGMo",
      "execution_count": null,
      "outputs": []
    },
    {
      "cell_type": "markdown",
      "source": [
        "\n",
        "\n",
        "---\n",
        "\n"
      ],
      "metadata": {
        "id": "stXMiT9fOJn-"
      },
      "id": "stXMiT9fOJn-"
    },
    {
      "cell_type": "markdown",
      "id": "cfed7bb9",
      "metadata": {
        "id": "cfed7bb9"
      },
      "source": [
        "#### 12. What integers represent the levels of headings available in Word documents?\n",
        "**Ans:** The levels for a heading in a word document can be specified by using the **`level`** attribute inside the **`add_heading`** method. There are a total of 5 levels statring for 0 t0 4. where level 0 makes a headline with the horizontal line below the text, whereas the heading level 1 is the main heading. Similarly, the other headings are sub-heading with their's font-sizes in decreasing order."
      ]
    },
    {
      "cell_type": "markdown",
      "source": [
        "\n",
        "\n",
        "---\n",
        "\n",
        "\n",
        "\n",
        "---\n",
        "\n"
      ],
      "metadata": {
        "id": "PwxHtomqOKwn"
      },
      "id": "PwxHtomqOKwn"
    }
  ],
  "metadata": {
    "kernelspec": {
      "display_name": "Python 3",
      "language": "python",
      "name": "python3"
    },
    "language_info": {
      "codemirror_mode": {
        "name": "ipython",
        "version": 3
      },
      "file_extension": ".py",
      "mimetype": "text/x-python",
      "name": "python",
      "nbconvert_exporter": "python",
      "pygments_lexer": "ipython3",
      "version": "3.8.8"
    },
    "colab": {
      "provenance": []
    }
  },
  "nbformat": 4,
  "nbformat_minor": 5
}