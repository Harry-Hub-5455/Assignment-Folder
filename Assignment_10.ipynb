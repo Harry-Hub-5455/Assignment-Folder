{
  "cells": [
    {
      "cell_type": "markdown",
      "id": "c750c84b",
      "metadata": {
        "id": "c750c84b"
      },
      "source": [
        "# Assignment_10\n",
        "\n",
        "---\n",
        "\n"
      ]
    },
    {
      "cell_type": "markdown",
      "source": [
        "1. How do you distinguish between shutil.copy() and shutil.copytree()?\n",
        "\n",
        "2. What function is used to rename files?\n",
        "\n",
        "3. What is the difference between the delete functions in the send2trash and shutil modules?\n",
        "\n",
        "4. ZipFile objects have a close() method just like File objects’ close() method. What ZipFile method is equivalent to File objects’ open() method?\n",
        "\n",
        "5. Create a programme that searches a folder tree for files with a certain file extension (such as .pdf or .jpg). Copy these files from whatever location they are in to a new folder"
      ],
      "metadata": {
        "id": "DBxUoI8_Gsa_"
      },
      "id": "DBxUoI8_Gsa_"
    },
    {
      "cell_type": "markdown",
      "source": [
        "\n",
        "#Answer Sheet\n",
        "\n",
        "\n",
        "---\n",
        "\n",
        "\n",
        "---\n",
        "\n",
        "\n"
      ],
      "metadata": {
        "id": "_ruQK-_eSPgo"
      },
      "id": "_ruQK-_eSPgo"
    },
    {
      "cell_type": "markdown",
      "id": "c00ae223",
      "metadata": {
        "id": "c00ae223"
      },
      "source": [
        "#### 1. How do you distinguish between shutil.copy() and shutil.copytree()?\n",
        "\n",
        "**Ans:** \n",
        "\n",
        "`shutil.copy()` method is used to copy the contents of a file from one file to another file/folder, it primary takes two arguments `src`,`dest`, `src` represents the file to be copied where as destination refers to the file/folder to where the `src` data should be copied, if `dest` is a folder name the `src` with exact name will be copied to the `dest` folder, if its a file then the contents of `src` will be copied to `dest` where `dest` retains it name.\n",
        "\n",
        "`shutil.copytree()` function is used to copy the entire contents of a folder to other folder. it also takes two arguments `src` & `dest`, it copies all the content recursively and stores it in `dest`. the important catch here is `dest` must not exist prior to this and it will be created during the copy operation. Permissions and times of directories are copied with `shutil.copystat()` and individual files are copied using `shutil.copy2()` by default which can be modified using `copy_function` attribute.\n"
      ]
    },
    {
      "cell_type": "markdown",
      "source": [
        "\n",
        "\n",
        "---\n",
        "\n"
      ],
      "metadata": {
        "id": "2IrhG9RtHLro"
      },
      "id": "2IrhG9RtHLro"
    },
    {
      "cell_type": "markdown",
      "id": "0a932861",
      "metadata": {
        "id": "0a932861"
      },
      "source": [
        "#### 2. What function is used to rename files??\n",
        "\n",
        "**Ans:** \n",
        "\n",
        "`os.rename()` function is used to rename files or directories using a python program, this function takes two arguments `src` and `dest`, `src` represents the name file/directory which we want to rename, whereas `dest` represents the new name of the file/directory."
      ]
    },
    {
      "cell_type": "markdown",
      "source": [
        "\n",
        "\n",
        "---\n",
        "\n"
      ],
      "metadata": {
        "id": "KetD9aJXHNat"
      },
      "id": "KetD9aJXHNat"
    },
    {
      "cell_type": "markdown",
      "id": "34ce7a3d",
      "metadata": {
        "id": "34ce7a3d"
      },
      "source": [
        "#### 3. What is the difference between the delete functions in the send2trash and shutil modules?\n",
        "\n",
        "**Ans:** \n",
        "\n",
        "Shutil module provides a funciton called as `shutil.rmtree()` which deletes a directory and all its contents. The other functions with similar functionality are `os.remove()` -> removes a file, `os.rmdir()` removes a empty directory. The problem with these functions is once a file is deleted. it will be lost permanently, if a file is deleted accidentally using these methods there is no way we can recover the deleted file\n",
        "\n",
        "Where as send2trash module provides a function called `send2trash.send2trash()` to delete a file/directory. these methods moves the files/directories to trash folder instead of permanently deleting them. hence if a file/folder is deleted accidentally it can be still recovered from trash folder, if is deleted using the `send2trash.send2trash()` function. `send2trash` is not included with python standard libary like `os` & `shutil` modules. it needs to be installed explicitly using the command `!pip install send2trash`"
      ]
    },
    {
      "cell_type": "markdown",
      "source": [
        "\n",
        "\n",
        "---\n",
        "\n"
      ],
      "metadata": {
        "id": "ljjN9QSdHVff"
      },
      "id": "ljjN9QSdHVff"
    },
    {
      "cell_type": "markdown",
      "id": "bf6ed792",
      "metadata": {
        "id": "bf6ed792"
      },
      "source": [
        "#### 4.ZipFile objects have a close() method just like File objects’ close() method. What ZipFile method is equivalent to File objects’ open() method?\n",
        "\n",
        "**Ans:** \n",
        "\n",
        "ZipFile Module provides a method called as `zipfile.ZipFile()` to read and write to zipFiles. it takes arugments lile filename and mode etc `zipfile.ZipFile('filename', mode = 'r')`"
      ]
    },
    {
      "cell_type": "markdown",
      "source": [
        "\n",
        "\n",
        "---\n",
        "\n"
      ],
      "metadata": {
        "id": "h8d2kZfdHuoG"
      },
      "id": "h8d2kZfdHuoG"
    },
    {
      "cell_type": "markdown",
      "id": "c625fcea",
      "metadata": {
        "id": "c625fcea"
      },
      "source": [
        "#### 5. Create a programme that searches a folder tree for files with a certain file extension (such as .pdf or .jpg). Copy these files from whatever location they are in to a new folder"
      ]
    },
    {
      "cell_type": "code",
      "execution_count": 8,
      "id": "4710d7d8",
      "metadata": {
        "id": "4710d7d8"
      },
      "outputs": [],
      "source": [
        "# Write a program that walks through a folder tree\n",
        "\n",
        "import os\n",
        "import shutil\n",
        "\n",
        "def search_and_copy(source,destination,extensions):\n",
        "    source = os.path.abspath(source)\n",
        "    destination = os.path.abspath(destination)\n",
        "    for foldername, subfolder, filenames in os.walk(source):\n",
        "        print(f'Folder Name ➞ {foldername}',end='\\n\\n')\n",
        "        print(f'Sub Folders ➞ {subfolder}',end='\\n\\n')\n",
        "        print(f'Files ➞ {filenames}',end='\\n\\n')\n",
        "        for filename in filenames:\n",
        "            fileName,extension = os.path.splitext(filename)\n",
        "            if extension in extensions:\n",
        "                targetFile = foldername+os.path.sep+fileName+extension\n",
        "                shutil.copy(targetFile, destination)\n",
        "        print(f'Files copied successfully from {source} to {destination}')\n",
        "    \n",
        "extensions = ['.pdf','.jpg','.ipynb']\n",
        "source = 'Dummy Source'\n",
        "destination = 'Dummy Destination'\n",
        "search_and_copy(source, destination, extensions)"
      ]
    },
    {
      "cell_type": "code",
      "source": [
        "# Write a program that walks through a folder tree \n",
        "# and searches for files with a certain file extension (such as .pdf or .jpg).\n",
        "# Copy these files from whatever location they are in to a new folder.\n",
        "\n",
        "import os, shutil\n",
        "\n",
        "def selectiveCopy(folder, extensions, destFolder):\n",
        "\tfolder = os.path.abspath(folder)\n",
        "\tdestFolder = os.path.abspath(destFolder)\n",
        "\tprint('Looking in', folder, 'for files with extensions of', ', '.join(extensions))\n",
        "\tfor foldername, subfolders, filenames in os.walk(folder):\n",
        "\t\tfor filename in filenames:\n",
        "\t\t\tname, extension = os.path.splitext(filename)\n",
        "\t\t\tif extension in extensions:\n",
        "\t\t\t\tfileAbsPath = foldername + os.path.sep + filename\n",
        "\t\t\t\tprint('Coping', fileAbsPath, 'to', destFolder)\n",
        "\t\t\t\tshutil.copy(fileAbsPath, destFolder)\n",
        "\n",
        "extensions = ['.pdf','.jpg','.ipynb']\n",
        "folder = 'randomFolder'\n",
        "destFolder = 'selectiveFolder'\n",
        "selectiveCopy(folder, extensions, destFolder)"
      ],
      "metadata": {
        "colab": {
          "base_uri": "https://localhost:8080/"
        },
        "id": "yuWGyqVoH6QA",
        "outputId": "b844cbdc-f05d-414c-bd7f-4d8e058a6409"
      },
      "id": "yuWGyqVoH6QA",
      "execution_count": 10,
      "outputs": [
        {
          "output_type": "stream",
          "name": "stdout",
          "text": [
            "Looking in /content/randomFolder for files with extensions of .pdf, .jpg, .ipynb\n"
          ]
        }
      ]
    },
    {
      "cell_type": "markdown",
      "source": [
        "\n",
        "\n",
        "---\n",
        "\n",
        "\n",
        "\n",
        "---\n",
        "\n"
      ],
      "metadata": {
        "id": "DWF4DSeqSLDP"
      },
      "id": "DWF4DSeqSLDP"
    }
  ],
  "metadata": {
    "kernelspec": {
      "display_name": "Python 3",
      "language": "python",
      "name": "python3"
    },
    "language_info": {
      "codemirror_mode": {
        "name": "ipython",
        "version": 3
      },
      "file_extension": ".py",
      "mimetype": "text/x-python",
      "name": "python",
      "nbconvert_exporter": "python",
      "pygments_lexer": "ipython3",
      "version": "3.8.8"
    },
    "colab": {
      "provenance": []
    }
  },
  "nbformat": 4,
  "nbformat_minor": 5
}